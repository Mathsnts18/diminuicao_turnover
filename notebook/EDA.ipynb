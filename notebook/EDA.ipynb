{
 "cells": [
  {
   "cell_type": "markdown",
   "metadata": {},
   "source": [
    "# Importação das bibliotecas"
   ]
  },
  {
   "cell_type": "code",
   "execution_count": 1,
   "metadata": {},
   "outputs": [],
   "source": [
    "import pandas as pd\n",
    "import matplotlib.pyplot as plt\n",
    "import seaborn as sns\n",
    "import numpy as np"
   ]
  },
  {
   "cell_type": "markdown",
   "metadata": {},
   "source": [
    "# Leitura dos dados"
   ]
  },
  {
   "cell_type": "code",
   "execution_count": 2,
   "metadata": {},
   "outputs": [
    {
     "data": {
      "text/html": [
       "<div>\n",
       "<style scoped>\n",
       "    .dataframe tbody tr th:only-of-type {\n",
       "        vertical-align: middle;\n",
       "    }\n",
       "\n",
       "    .dataframe tbody tr th {\n",
       "        vertical-align: top;\n",
       "    }\n",
       "\n",
       "    .dataframe thead th {\n",
       "        text-align: right;\n",
       "    }\n",
       "</style>\n",
       "<table border=\"1\" class=\"dataframe\">\n",
       "  <thead>\n",
       "    <tr style=\"text-align: right;\">\n",
       "      <th></th>\n",
       "      <th>Variável</th>\n",
       "      <th>Descrição</th>\n",
       "    </tr>\n",
       "  </thead>\n",
       "  <tbody>\n",
       "    <tr>\n",
       "      <th>0</th>\n",
       "      <td>ID</td>\n",
       "      <td>Matrícula do funcionário</td>\n",
       "    </tr>\n",
       "    <tr>\n",
       "      <th>1</th>\n",
       "      <td>Funcionário_deixou_a_empresa</td>\n",
       "      <td>Marcação sem funcionário deixou a empresa recentemente</td>\n",
       "    </tr>\n",
       "    <tr>\n",
       "      <th>2</th>\n",
       "      <td>Idade</td>\n",
       "      <td>Idade do funcionário</td>\n",
       "    </tr>\n",
       "    <tr>\n",
       "      <th>3</th>\n",
       "      <td>Frequência de Viagens</td>\n",
       "      <td>Frequência de viagens a trabalho do funcionário</td>\n",
       "    </tr>\n",
       "    <tr>\n",
       "      <th>4</th>\n",
       "      <td>Distância_do_trabalho</td>\n",
       "      <td>Distância em Km até o trabalho</td>\n",
       "    </tr>\n",
       "    <tr>\n",
       "      <th>5</th>\n",
       "      <td>Formação</td>\n",
       "      <td>Nível de formação</td>\n",
       "    </tr>\n",
       "    <tr>\n",
       "      <th>6</th>\n",
       "      <td>E-Sat</td>\n",
       "      <td>Satisfação com o clima organizacional</td>\n",
       "    </tr>\n",
       "    <tr>\n",
       "      <th>7</th>\n",
       "      <td>Gênero</td>\n",
       "      <td>Gênero do funcionário</td>\n",
       "    </tr>\n",
       "    <tr>\n",
       "      <th>8</th>\n",
       "      <td>Estado_Civil</td>\n",
       "      <td>Estado civil do funcionário</td>\n",
       "    </tr>\n",
       "    <tr>\n",
       "      <th>9</th>\n",
       "      <td>Salário</td>\n",
       "      <td>Salário mensal</td>\n",
       "    </tr>\n",
       "    <tr>\n",
       "      <th>10</th>\n",
       "      <td>Qte_Empresas_Trabalhadas</td>\n",
       "      <td>Quantidade de empresas que o funcionário já trabalhou</td>\n",
       "    </tr>\n",
       "    <tr>\n",
       "      <th>11</th>\n",
       "      <td>Faz_hora_extras?</td>\n",
       "      <td>Se funcionário costuma fazer hora extra</td>\n",
       "    </tr>\n",
       "    <tr>\n",
       "      <th>12</th>\n",
       "      <td>Perc_de_aumento</td>\n",
       "      <td>Percentual de aumento de salário de 2018 a 2019</td>\n",
       "    </tr>\n",
       "    <tr>\n",
       "      <th>13</th>\n",
       "      <td>Qte_ações_da_empresa</td>\n",
       "      <td>Qte de lotes de ações da empresa que o funcionário possui</td>\n",
       "    </tr>\n",
       "    <tr>\n",
       "      <th>14</th>\n",
       "      <td>Tempo_de_carreira</td>\n",
       "      <td>Tempo em anos que o funcionário tem de carreira</td>\n",
       "    </tr>\n",
       "    <tr>\n",
       "      <th>15</th>\n",
       "      <td>Horas_de_treinamento</td>\n",
       "      <td>Qte de horas de treinamento que o funcionário teve no ano passado</td>\n",
       "    </tr>\n",
       "    <tr>\n",
       "      <th>16</th>\n",
       "      <td>Equilibrio_de_Vida</td>\n",
       "      <td>Nota que o funcionário deu para seu equilibrio entre vida pessoal e profissional</td>\n",
       "    </tr>\n",
       "    <tr>\n",
       "      <th>17</th>\n",
       "      <td>Tempo_de_empresa</td>\n",
       "      <td>Tempo em anos que o funcionário trabalha na empresa</td>\n",
       "    </tr>\n",
       "    <tr>\n",
       "      <th>18</th>\n",
       "      <td>Anos_no_mesmo_cargo</td>\n",
       "      <td>Qte de tempo em anos que o funcionário atua no mesmo cargo</td>\n",
       "    </tr>\n",
       "    <tr>\n",
       "      <th>19</th>\n",
       "      <td>Anos_desde_a_ultima_promocao</td>\n",
       "      <td>Qte de tempo em anos que o funcionário teve a última promoção</td>\n",
       "    </tr>\n",
       "    <tr>\n",
       "      <th>20</th>\n",
       "      <td>Anos_com_o_mesmo_chefe</td>\n",
       "      <td>Qte de tempo em anos que o funcionário responde para o mesmo chefe</td>\n",
       "    </tr>\n",
       "  </tbody>\n",
       "</table>\n",
       "</div>"
      ],
      "text/plain": [
       "                        Variável  \\\n",
       "0                             ID   \n",
       "1   Funcionário_deixou_a_empresa   \n",
       "2                          Idade   \n",
       "3          Frequência de Viagens   \n",
       "4          Distância_do_trabalho   \n",
       "5                       Formação   \n",
       "6                          E-Sat   \n",
       "7                         Gênero   \n",
       "8                   Estado_Civil   \n",
       "9                        Salário   \n",
       "10      Qte_Empresas_Trabalhadas   \n",
       "11              Faz_hora_extras?   \n",
       "12               Perc_de_aumento   \n",
       "13          Qte_ações_da_empresa   \n",
       "14             Tempo_de_carreira   \n",
       "15          Horas_de_treinamento   \n",
       "16            Equilibrio_de_Vida   \n",
       "17              Tempo_de_empresa   \n",
       "18           Anos_no_mesmo_cargo   \n",
       "19  Anos_desde_a_ultima_promocao   \n",
       "20        Anos_com_o_mesmo_chefe   \n",
       "\n",
       "                                                                           Descrição  \n",
       "0                                                           Matrícula do funcionário  \n",
       "1                             Marcação sem funcionário deixou a empresa recentemente  \n",
       "2                                                               Idade do funcionário  \n",
       "3                                    Frequência de viagens a trabalho do funcionário  \n",
       "4                                                     Distância em Km até o trabalho  \n",
       "5                                                                  Nível de formação  \n",
       "6                                              Satisfação com o clima organizacional  \n",
       "7                                                              Gênero do funcionário  \n",
       "8                                                        Estado civil do funcionário  \n",
       "9                                                                     Salário mensal  \n",
       "10                             Quantidade de empresas que o funcionário já trabalhou  \n",
       "11                                           Se funcionário costuma fazer hora extra  \n",
       "12                                   Percentual de aumento de salário de 2018 a 2019  \n",
       "13                         Qte de lotes de ações da empresa que o funcionário possui  \n",
       "14                                   Tempo em anos que o funcionário tem de carreira  \n",
       "15                 Qte de horas de treinamento que o funcionário teve no ano passado  \n",
       "16  Nota que o funcionário deu para seu equilibrio entre vida pessoal e profissional  \n",
       "17                               Tempo em anos que o funcionário trabalha na empresa  \n",
       "18                        Qte de tempo em anos que o funcionário atua no mesmo cargo  \n",
       "19                     Qte de tempo em anos que o funcionário teve a última promoção  \n",
       "20                Qte de tempo em anos que o funcionário responde para o mesmo chefe  "
      ]
     },
     "execution_count": 2,
     "metadata": {},
     "output_type": "execute_result"
    }
   ],
   "source": [
    "metadados = pd.read_excel('Base_RH.xlsx')\n",
    "metadados.drop('Unnamed: 0', axis=1, inplace=True)\n",
    "pd.set_option('display.max_colwidth', None)\n",
    "metadados"
   ]
  },
  {
   "cell_type": "markdown",
   "metadata": {},
   "source": [
    "O dataframe `metadados` exibe informações sobre as caracteristicas de nosso dataset `base`"
   ]
  },
  {
   "cell_type": "code",
   "execution_count": 3,
   "metadata": {},
   "outputs": [
    {
     "data": {
      "text/html": [
       "<div>\n",
       "<style scoped>\n",
       "    .dataframe tbody tr th:only-of-type {\n",
       "        vertical-align: middle;\n",
       "    }\n",
       "\n",
       "    .dataframe tbody tr th {\n",
       "        vertical-align: top;\n",
       "    }\n",
       "\n",
       "    .dataframe thead th {\n",
       "        text-align: right;\n",
       "    }\n",
       "</style>\n",
       "<table border=\"1\" class=\"dataframe\">\n",
       "  <thead>\n",
       "    <tr style=\"text-align: right;\">\n",
       "      <th></th>\n",
       "      <th>ID</th>\n",
       "      <th>Funcionário_deixou_a_empresa</th>\n",
       "      <th>Idade</th>\n",
       "      <th>Frequência de Viagens</th>\n",
       "      <th>Distância_do_trabalho</th>\n",
       "      <th>Formação</th>\n",
       "      <th>E-Sat</th>\n",
       "      <th>Gênero</th>\n",
       "      <th>Estado_Civil</th>\n",
       "      <th>Salário</th>\n",
       "      <th>...</th>\n",
       "      <th>Faz_hora_extras?</th>\n",
       "      <th>Perc_de_aumento</th>\n",
       "      <th>Qte_ações_da_empresa</th>\n",
       "      <th>Tempo_de_carreira</th>\n",
       "      <th>Horas_de_treinamento</th>\n",
       "      <th>Equilibrio_de_Vida</th>\n",
       "      <th>Tempo_de_empresa</th>\n",
       "      <th>Anos_no_mesmo_cargo</th>\n",
       "      <th>Anos_desde_a_ultima_promocao</th>\n",
       "      <th>Anos_com_o_mesmo_chefe</th>\n",
       "    </tr>\n",
       "  </thead>\n",
       "  <tbody>\n",
       "    <tr>\n",
       "      <th>0</th>\n",
       "      <td>1</td>\n",
       "      <td>Sim</td>\n",
       "      <td>41</td>\n",
       "      <td>Viaja raramente</td>\n",
       "      <td>1</td>\n",
       "      <td>Ensino Técnico</td>\n",
       "      <td>Médio</td>\n",
       "      <td>M</td>\n",
       "      <td>Solteiro</td>\n",
       "      <td>5993</td>\n",
       "      <td>...</td>\n",
       "      <td>Sim</td>\n",
       "      <td>11</td>\n",
       "      <td>0</td>\n",
       "      <td>8</td>\n",
       "      <td>0</td>\n",
       "      <td>Ruim</td>\n",
       "      <td>6</td>\n",
       "      <td>4</td>\n",
       "      <td>0</td>\n",
       "      <td>5</td>\n",
       "    </tr>\n",
       "    <tr>\n",
       "      <th>1</th>\n",
       "      <td>2</td>\n",
       "      <td>Não</td>\n",
       "      <td>49</td>\n",
       "      <td>Viaja frequentemente</td>\n",
       "      <td>8</td>\n",
       "      <td>Ensino Médio</td>\n",
       "      <td>Alto</td>\n",
       "      <td>H</td>\n",
       "      <td>Casado</td>\n",
       "      <td>5130</td>\n",
       "      <td>...</td>\n",
       "      <td>Não</td>\n",
       "      <td>23</td>\n",
       "      <td>1</td>\n",
       "      <td>10</td>\n",
       "      <td>3</td>\n",
       "      <td>Muito bom</td>\n",
       "      <td>10</td>\n",
       "      <td>7</td>\n",
       "      <td>1</td>\n",
       "      <td>7</td>\n",
       "    </tr>\n",
       "    <tr>\n",
       "      <th>2</th>\n",
       "      <td>3</td>\n",
       "      <td>Sim</td>\n",
       "      <td>37</td>\n",
       "      <td>Viaja raramente</td>\n",
       "      <td>2</td>\n",
       "      <td>Ensino Técnico</td>\n",
       "      <td>Muito Alto</td>\n",
       "      <td>H</td>\n",
       "      <td>Solteiro</td>\n",
       "      <td>2090</td>\n",
       "      <td>...</td>\n",
       "      <td>Sim</td>\n",
       "      <td>15</td>\n",
       "      <td>0</td>\n",
       "      <td>7</td>\n",
       "      <td>3</td>\n",
       "      <td>Muito bom</td>\n",
       "      <td>0</td>\n",
       "      <td>0</td>\n",
       "      <td>0</td>\n",
       "      <td>0</td>\n",
       "    </tr>\n",
       "    <tr>\n",
       "      <th>3</th>\n",
       "      <td>4</td>\n",
       "      <td>Não</td>\n",
       "      <td>33</td>\n",
       "      <td>Viaja frequentemente</td>\n",
       "      <td>3</td>\n",
       "      <td>Mestrado</td>\n",
       "      <td>Muito Alto</td>\n",
       "      <td>M</td>\n",
       "      <td>Casado</td>\n",
       "      <td>2909</td>\n",
       "      <td>...</td>\n",
       "      <td>Sim</td>\n",
       "      <td>11</td>\n",
       "      <td>0</td>\n",
       "      <td>8</td>\n",
       "      <td>3</td>\n",
       "      <td>Muito bom</td>\n",
       "      <td>8</td>\n",
       "      <td>7</td>\n",
       "      <td>3</td>\n",
       "      <td>0</td>\n",
       "    </tr>\n",
       "    <tr>\n",
       "      <th>4</th>\n",
       "      <td>5</td>\n",
       "      <td>Não</td>\n",
       "      <td>27</td>\n",
       "      <td>Viaja raramente</td>\n",
       "      <td>2</td>\n",
       "      <td>Ensino Médio</td>\n",
       "      <td>Baixo</td>\n",
       "      <td>H</td>\n",
       "      <td>Casado</td>\n",
       "      <td>3468</td>\n",
       "      <td>...</td>\n",
       "      <td>Não</td>\n",
       "      <td>12</td>\n",
       "      <td>1</td>\n",
       "      <td>6</td>\n",
       "      <td>3</td>\n",
       "      <td>Muito bom</td>\n",
       "      <td>2</td>\n",
       "      <td>2</td>\n",
       "      <td>2</td>\n",
       "      <td>2</td>\n",
       "    </tr>\n",
       "    <tr>\n",
       "      <th>5</th>\n",
       "      <td>6</td>\n",
       "      <td>Não</td>\n",
       "      <td>32</td>\n",
       "      <td>Viaja frequentemente</td>\n",
       "      <td>2</td>\n",
       "      <td>Ensino Técnico</td>\n",
       "      <td>Muito Alto</td>\n",
       "      <td>H</td>\n",
       "      <td>Solteiro</td>\n",
       "      <td>3068</td>\n",
       "      <td>...</td>\n",
       "      <td>Não</td>\n",
       "      <td>13</td>\n",
       "      <td>0</td>\n",
       "      <td>8</td>\n",
       "      <td>2</td>\n",
       "      <td>Bom</td>\n",
       "      <td>7</td>\n",
       "      <td>7</td>\n",
       "      <td>3</td>\n",
       "      <td>6</td>\n",
       "    </tr>\n",
       "    <tr>\n",
       "      <th>6</th>\n",
       "      <td>7</td>\n",
       "      <td>Não</td>\n",
       "      <td>59</td>\n",
       "      <td>Viaja raramente</td>\n",
       "      <td>3</td>\n",
       "      <td>Ensino Superior</td>\n",
       "      <td>Alto</td>\n",
       "      <td>M</td>\n",
       "      <td>Casado</td>\n",
       "      <td>2670</td>\n",
       "      <td>...</td>\n",
       "      <td>Sim</td>\n",
       "      <td>20</td>\n",
       "      <td>3</td>\n",
       "      <td>12</td>\n",
       "      <td>3</td>\n",
       "      <td>Bom</td>\n",
       "      <td>1</td>\n",
       "      <td>0</td>\n",
       "      <td>0</td>\n",
       "      <td>0</td>\n",
       "    </tr>\n",
       "    <tr>\n",
       "      <th>7</th>\n",
       "      <td>8</td>\n",
       "      <td>Não</td>\n",
       "      <td>30</td>\n",
       "      <td>Viaja raramente</td>\n",
       "      <td>24</td>\n",
       "      <td>Ensino Médio</td>\n",
       "      <td>Muito Alto</td>\n",
       "      <td>H</td>\n",
       "      <td>Divorciado</td>\n",
       "      <td>2693</td>\n",
       "      <td>...</td>\n",
       "      <td>Não</td>\n",
       "      <td>22</td>\n",
       "      <td>1</td>\n",
       "      <td>1</td>\n",
       "      <td>2</td>\n",
       "      <td>Muito bom</td>\n",
       "      <td>1</td>\n",
       "      <td>0</td>\n",
       "      <td>0</td>\n",
       "      <td>0</td>\n",
       "    </tr>\n",
       "    <tr>\n",
       "      <th>8</th>\n",
       "      <td>9</td>\n",
       "      <td>Não</td>\n",
       "      <td>38</td>\n",
       "      <td>Viaja frequentemente</td>\n",
       "      <td>23</td>\n",
       "      <td>Ensino Superior</td>\n",
       "      <td>Muito Alto</td>\n",
       "      <td>H</td>\n",
       "      <td>Solteiro</td>\n",
       "      <td>9526</td>\n",
       "      <td>...</td>\n",
       "      <td>Não</td>\n",
       "      <td>21</td>\n",
       "      <td>0</td>\n",
       "      <td>10</td>\n",
       "      <td>2</td>\n",
       "      <td>Muito bom</td>\n",
       "      <td>9</td>\n",
       "      <td>7</td>\n",
       "      <td>1</td>\n",
       "      <td>8</td>\n",
       "    </tr>\n",
       "    <tr>\n",
       "      <th>9</th>\n",
       "      <td>10</td>\n",
       "      <td>Não</td>\n",
       "      <td>36</td>\n",
       "      <td>Viaja raramente</td>\n",
       "      <td>27</td>\n",
       "      <td>Ensino Superior</td>\n",
       "      <td>Alto</td>\n",
       "      <td>H</td>\n",
       "      <td>Casado</td>\n",
       "      <td>5237</td>\n",
       "      <td>...</td>\n",
       "      <td>Não</td>\n",
       "      <td>13</td>\n",
       "      <td>2</td>\n",
       "      <td>17</td>\n",
       "      <td>3</td>\n",
       "      <td>Bom</td>\n",
       "      <td>7</td>\n",
       "      <td>7</td>\n",
       "      <td>7</td>\n",
       "      <td>7</td>\n",
       "    </tr>\n",
       "  </tbody>\n",
       "</table>\n",
       "<p>10 rows × 21 columns</p>\n",
       "</div>"
      ],
      "text/plain": [
       "   ID Funcionário_deixou_a_empresa  Idade Frequência de Viagens  \\\n",
       "0   1                          Sim     41       Viaja raramente   \n",
       "1   2                          Não     49  Viaja frequentemente   \n",
       "2   3                          Sim     37       Viaja raramente   \n",
       "3   4                          Não     33  Viaja frequentemente   \n",
       "4   5                          Não     27       Viaja raramente   \n",
       "5   6                          Não     32  Viaja frequentemente   \n",
       "6   7                          Não     59       Viaja raramente   \n",
       "7   8                          Não     30       Viaja raramente   \n",
       "8   9                          Não     38  Viaja frequentemente   \n",
       "9  10                          Não     36       Viaja raramente   \n",
       "\n",
       "   Distância_do_trabalho         Formação       E-Sat Gênero Estado_Civil  \\\n",
       "0                      1   Ensino Técnico       Médio      M     Solteiro   \n",
       "1                      8     Ensino Médio        Alto      H       Casado   \n",
       "2                      2   Ensino Técnico  Muito Alto      H     Solteiro   \n",
       "3                      3         Mestrado  Muito Alto      M       Casado   \n",
       "4                      2     Ensino Médio       Baixo      H       Casado   \n",
       "5                      2   Ensino Técnico  Muito Alto      H     Solteiro   \n",
       "6                      3  Ensino Superior        Alto      M       Casado   \n",
       "7                     24     Ensino Médio  Muito Alto      H   Divorciado   \n",
       "8                     23  Ensino Superior  Muito Alto      H     Solteiro   \n",
       "9                     27  Ensino Superior        Alto      H       Casado   \n",
       "\n",
       "   Salário  ...  Faz_hora_extras? Perc_de_aumento  Qte_ações_da_empresa  \\\n",
       "0     5993  ...               Sim              11                     0   \n",
       "1     5130  ...               Não              23                     1   \n",
       "2     2090  ...               Sim              15                     0   \n",
       "3     2909  ...               Sim              11                     0   \n",
       "4     3468  ...               Não              12                     1   \n",
       "5     3068  ...               Não              13                     0   \n",
       "6     2670  ...               Sim              20                     3   \n",
       "7     2693  ...               Não              22                     1   \n",
       "8     9526  ...               Não              21                     0   \n",
       "9     5237  ...               Não              13                     2   \n",
       "\n",
       "   Tempo_de_carreira  Horas_de_treinamento  Equilibrio_de_Vida  \\\n",
       "0                  8                     0                Ruim   \n",
       "1                 10                     3           Muito bom   \n",
       "2                  7                     3           Muito bom   \n",
       "3                  8                     3           Muito bom   \n",
       "4                  6                     3           Muito bom   \n",
       "5                  8                     2                 Bom   \n",
       "6                 12                     3                 Bom   \n",
       "7                  1                     2           Muito bom   \n",
       "8                 10                     2           Muito bom   \n",
       "9                 17                     3                 Bom   \n",
       "\n",
       "  Tempo_de_empresa  Anos_no_mesmo_cargo  Anos_desde_a_ultima_promocao  \\\n",
       "0                6                    4                             0   \n",
       "1               10                    7                             1   \n",
       "2                0                    0                             0   \n",
       "3                8                    7                             3   \n",
       "4                2                    2                             2   \n",
       "5                7                    7                             3   \n",
       "6                1                    0                             0   \n",
       "7                1                    0                             0   \n",
       "8                9                    7                             1   \n",
       "9                7                    7                             7   \n",
       "\n",
       "   Anos_com_o_mesmo_chefe  \n",
       "0                       5  \n",
       "1                       7  \n",
       "2                       0  \n",
       "3                       0  \n",
       "4                       2  \n",
       "5                       6  \n",
       "6                       0  \n",
       "7                       0  \n",
       "8                       8  \n",
       "9                       7  \n",
       "\n",
       "[10 rows x 21 columns]"
      ]
     },
     "execution_count": 3,
     "metadata": {},
     "output_type": "execute_result"
    }
   ],
   "source": [
    "df = pd.read_excel('Base_RH.xlsx', sheet_name=1, skiprows=6)\n",
    "df.head(10)"
   ]
  },
  {
   "cell_type": "markdown",
   "metadata": {},
   "source": [
    "Todos os nomes das colunas estão listados na saída."
   ]
  },
  {
   "cell_type": "code",
   "execution_count": 4,
   "metadata": {},
   "outputs": [
    {
     "name": "stdout",
     "output_type": "stream",
     "text": [
      "<class 'pandas.core.frame.DataFrame'>\n",
      "RangeIndex: 1470 entries, 0 to 1469\n",
      "Data columns (total 21 columns):\n",
      " #   Column                        Non-Null Count  Dtype \n",
      "---  ------                        --------------  ----- \n",
      " 0   ID                            1470 non-null   int64 \n",
      " 1   Funcionário_deixou_a_empresa  1470 non-null   object\n",
      " 2   Idade                         1470 non-null   int64 \n",
      " 3   Frequência de Viagens         1470 non-null   object\n",
      " 4   Distância_do_trabalho         1470 non-null   int64 \n",
      " 5   Formação                      1470 non-null   object\n",
      " 6   E-Sat                         1470 non-null   object\n",
      " 7   Gênero                        1470 non-null   object\n",
      " 8   Estado_Civil                  1470 non-null   object\n",
      " 9   Salário                       1470 non-null   int64 \n",
      " 10  Qte_Empresas_Trabalhadas      1470 non-null   int64 \n",
      " 11  Faz_hora_extras?              1470 non-null   object\n",
      " 12  Perc_de_aumento               1470 non-null   int64 \n",
      " 13  Qte_ações_da_empresa          1470 non-null   int64 \n",
      " 14  Tempo_de_carreira             1470 non-null   int64 \n",
      " 15  Horas_de_treinamento          1470 non-null   int64 \n",
      " 16  Equilibrio_de_Vida            1470 non-null   object\n",
      " 17  Tempo_de_empresa              1470 non-null   int64 \n",
      " 18  Anos_no_mesmo_cargo           1470 non-null   int64 \n",
      " 19  Anos_desde_a_ultima_promocao  1470 non-null   int64 \n",
      " 20  Anos_com_o_mesmo_chefe        1470 non-null   int64 \n",
      "dtypes: int64(13), object(8)\n",
      "memory usage: 241.3+ KB\n"
     ]
    }
   ],
   "source": [
    "df.info()"
   ]
  },
  {
   "cell_type": "markdown",
   "metadata": {},
   "source": [
    "De acordo com a saída do código, temos:\n",
    "\n",
    "- 1470 linhas (ou entradas)\n",
    "- 21 colunas (ou características)\n",
    "- Aparentemente não temos nenhum número nulo"
   ]
  },
  {
   "cell_type": "markdown",
   "metadata": {},
   "source": [
    "# Análise Exploratória de Dados"
   ]
  },
  {
   "cell_type": "markdown",
   "metadata": {},
   "source": [
    "Será averiguado cada uma das características e iremos obter insights sobre elas."
   ]
  },
  {
   "cell_type": "markdown",
   "metadata": {},
   "source": [
    "## Univariada"
   ]
  },
  {
   "cell_type": "markdown",
   "metadata": {},
   "source": [
    "### `ID`"
   ]
  },
  {
   "cell_type": "code",
   "execution_count": 5,
   "metadata": {},
   "outputs": [
    {
     "data": {
      "text/plain": [
       "0"
      ]
     },
     "execution_count": 5,
     "metadata": {},
     "output_type": "execute_result"
    }
   ],
   "source": [
    "df['ID'].duplicated().sum()"
   ]
  },
  {
   "cell_type": "markdown",
   "metadata": {},
   "source": [
    "Para garantir a integridade dos dados, verificamos se há algum identificador duplicado."
   ]
  },
  {
   "cell_type": "markdown",
   "metadata": {},
   "source": [
    "### `Funcionário_deixou_a_empresa`"
   ]
  },
  {
   "cell_type": "code",
   "execution_count": 6,
   "metadata": {},
   "outputs": [
    {
     "data": {
      "image/png": "[encoded data removed]",
      "text/plain": [
       "<Figure size 640x480 with 1 Axes>"
      ]
     },
     "metadata": {},
     "output_type": "display_data"
    }
   ],
   "source": [
    "sns.countplot(df, x='Funcionário_deixou_a_empresa')\n",
    "plt.title('Frequência da característica Funcionário_deixou_a_empresa')\n",
    "plt.xlabel('')\n",
    "plt.ylabel('')\n",
    "\n",
    "sns.despine()\n",
    "plt.show()"
   ]
  },
  {
   "cell_type": "code",
   "execution_count": 7,
   "metadata": {},
   "outputs": [
    {
     "data": {
      "text/html": [
       "<div>\n",
       "<style scoped>\n",
       "    .dataframe tbody tr th:only-of-type {\n",
       "        vertical-align: middle;\n",
       "    }\n",
       "\n",
       "    .dataframe tbody tr th {\n",
       "        vertical-align: top;\n",
       "    }\n",
       "\n",
       "    .dataframe thead th {\n",
       "        text-align: right;\n",
       "    }\n",
       "</style>\n",
       "<table border=\"1\" class=\"dataframe\">\n",
       "  <thead>\n",
       "    <tr style=\"text-align: right;\">\n",
       "      <th>Funcionário_deixou_a_empresa</th>\n",
       "      <th>Não</th>\n",
       "      <th>Sim</th>\n",
       "    </tr>\n",
       "  </thead>\n",
       "  <tbody>\n",
       "    <tr>\n",
       "      <th>proportion</th>\n",
       "      <td>83.88</td>\n",
       "      <td>16.12</td>\n",
       "    </tr>\n",
       "  </tbody>\n",
       "</table>\n",
       "</div>"
      ],
      "text/plain": [
       "Funcionário_deixou_a_empresa    Não    Sim\n",
       "proportion                    83.88  16.12"
      ]
     },
     "execution_count": 7,
     "metadata": {},
     "output_type": "execute_result"
    }
   ],
   "source": [
    "round(df['Funcionário_deixou_a_empresa'].value_counts(normalize=True)*100, 2).to_frame().T"
   ]
  },
  {
   "cell_type": "markdown",
   "metadata": {},
   "source": [
    "A característica `Funcionário_deixou_a_empresa` é nossa característica alvo.\n",
    "\n",
    "84% dos funcionários do dataset não deixaram a empresa."
   ]
  },
  {
   "cell_type": "markdown",
   "metadata": {},
   "source": [
    "### `Idade`"
   ]
  },
  {
   "cell_type": "code",
   "execution_count": 8,
   "metadata": {},
   "outputs": [
    {
     "data": {
      "image/png": "[encoded data removed]",
      "text/plain": [
       "<Figure size 1200x400 with 2 Axes>"
      ]
     },
     "metadata": {},
     "output_type": "display_data"
    }
   ],
   "source": [
    "fig, (ax1, ax2) = plt.subplots(1, 2, figsize=(12,4))\n",
    "\n",
    "sns.histplot(df['Idade'], ax=ax1)\n",
    "ax1.set_title('Histograma da característica Idade')\n",
    "ax1.set_xlabel('')\n",
    "ax1.set_ylabel('Quantidade')\n",
    "\n",
    "sns.boxplot(df['Idade'], ax=ax2)\n",
    "ax2.set_title('Boxplot da característica Idade')\n",
    "ax2.set_xlabel('')\n",
    "ax2.set_ylabel('Idade')\n",
    "\n",
    "sns.despine()\n",
    "plt.show()"
   ]
  },
  {
   "cell_type": "code",
   "execution_count": 9,
   "metadata": {},
   "outputs": [
    {
     "data": {
      "text/html": [
       "<div>\n",
       "<style scoped>\n",
       "    .dataframe tbody tr th:only-of-type {\n",
       "        vertical-align: middle;\n",
       "    }\n",
       "\n",
       "    .dataframe tbody tr th {\n",
       "        vertical-align: top;\n",
       "    }\n",
       "\n",
       "    .dataframe thead th {\n",
       "        text-align: right;\n",
       "    }\n",
       "</style>\n",
       "<table border=\"1\" class=\"dataframe\">\n",
       "  <thead>\n",
       "    <tr style=\"text-align: right;\">\n",
       "      <th></th>\n",
       "      <th>count</th>\n",
       "      <th>mean</th>\n",
       "      <th>std</th>\n",
       "      <th>min</th>\n",
       "      <th>25%</th>\n",
       "      <th>50%</th>\n",
       "      <th>75%</th>\n",
       "      <th>max</th>\n",
       "    </tr>\n",
       "  </thead>\n",
       "  <tbody>\n",
       "    <tr>\n",
       "      <th>Idade</th>\n",
       "      <td>1470.0</td>\n",
       "      <td>36.92381</td>\n",
       "      <td>9.135373</td>\n",
       "      <td>18.0</td>\n",
       "      <td>30.0</td>\n",
       "      <td>36.0</td>\n",
       "      <td>43.0</td>\n",
       "      <td>60.0</td>\n",
       "    </tr>\n",
       "  </tbody>\n",
       "</table>\n",
       "</div>"
      ],
      "text/plain": [
       "        count      mean       std   min   25%   50%   75%   max\n",
       "Idade  1470.0  36.92381  9.135373  18.0  30.0  36.0  43.0  60.0"
      ]
     },
     "execution_count": 9,
     "metadata": {},
     "output_type": "execute_result"
    }
   ],
   "source": [
    "df['Idade'].describe().to_frame().T"
   ]
  },
  {
   "cell_type": "markdown",
   "metadata": {},
   "source": [
    "A maior parte dos funcionários possui idade entre os 30 a 43 anos"
   ]
  },
  {
   "cell_type": "markdown",
   "metadata": {},
   "source": [
    "### `Frequência de Viagens`"
   ]
  },
  {
   "cell_type": "code",
   "execution_count": 10,
   "metadata": {},
   "outputs": [
    {
     "data": {
      "image/png": "[encoded data removed]",
      "text/plain": [
       "<Figure size 640x480 with 1 Axes>"
      ]
     },
     "metadata": {},
     "output_type": "display_data"
    }
   ],
   "source": [
    "sns.countplot(df, x='Frequência de Viagens')\n",
    "plt.title('Frequência da característica Frequência de Viagens')\n",
    "plt.xlabel('')\n",
    "plt.ylabel('')\n",
    "\n",
    "sns.despine()\n",
    "plt.show()"
   ]
  },
  {
   "cell_type": "code",
   "execution_count": 11,
   "metadata": {},
   "outputs": [
    {
     "data": {
      "text/html": [
       "<div>\n",
       "<style scoped>\n",
       "    .dataframe tbody tr th:only-of-type {\n",
       "        vertical-align: middle;\n",
       "    }\n",
       "\n",
       "    .dataframe tbody tr th {\n",
       "        vertical-align: top;\n",
       "    }\n",
       "\n",
       "    .dataframe thead th {\n",
       "        text-align: right;\n",
       "    }\n",
       "</style>\n",
       "<table border=\"1\" class=\"dataframe\">\n",
       "  <thead>\n",
       "    <tr style=\"text-align: right;\">\n",
       "      <th>Frequência de Viagens</th>\n",
       "      <th>Viaja raramente</th>\n",
       "      <th>Viaja frequentemente</th>\n",
       "      <th>Não viaja</th>\n",
       "    </tr>\n",
       "  </thead>\n",
       "  <tbody>\n",
       "    <tr>\n",
       "      <th>proportion</th>\n",
       "      <td>70.95</td>\n",
       "      <td>18.84</td>\n",
       "      <td>10.2</td>\n",
       "    </tr>\n",
       "  </tbody>\n",
       "</table>\n",
       "</div>"
      ],
      "text/plain": [
       "Frequência de Viagens  Viaja raramente  Viaja frequentemente  Não viaja\n",
       "proportion                       70.95                 18.84       10.2"
      ]
     },
     "execution_count": 11,
     "metadata": {},
     "output_type": "execute_result"
    }
   ],
   "source": [
    "round(df['Frequência de Viagens'].value_counts(normalize=True)*100, 2).to_frame().T"
   ]
  },
  {
   "cell_type": "markdown",
   "metadata": {},
   "source": [
    "71% dos funcionários viajam raramente pela empresa"
   ]
  },
  {
   "cell_type": "markdown",
   "metadata": {},
   "source": [
    "### `Distância_do_trabalho`"
   ]
  },
  {
   "cell_type": "code",
   "execution_count": 12,
   "metadata": {},
   "outputs": [
    {
     "data": {
      "image/png": "[encoded data removed]",
      "text/plain": [
       "<Figure size 1200x400 with 2 Axes>"
      ]
     },
     "metadata": {},
     "output_type": "display_data"
    }
   ],
   "source": [
    "fig, (ax1, ax2) = plt.subplots(1, 2, figsize=(12,4))\n",
    "\n",
    "sns.histplot(df['Distância_do_trabalho'], ax=ax1)\n",
    "ax1.set_title('Histograma da característica Distância_do_trabalho')\n",
    "ax1.set_xlabel('')\n",
    "ax1.set_ylabel('Quantidade')\n",
    "\n",
    "sns.boxplot(df['Distância_do_trabalho'], ax=ax2)\n",
    "ax2.set_title('Boxplot da característica Distância_do_trabalho')\n",
    "ax2.set_xlabel('')\n",
    "ax2.set_ylabel('Distância_do_trabalho')\n",
    "\n",
    "sns.despine()\n",
    "plt.show()"
   ]
  },
  {
   "cell_type": "code",
   "execution_count": 13,
   "metadata": {},
   "outputs": [
    {
     "data": {
      "text/html": [
       "<div>\n",
       "<style scoped>\n",
       "    .dataframe tbody tr th:only-of-type {\n",
       "        vertical-align: middle;\n",
       "    }\n",
       "\n",
       "    .dataframe tbody tr th {\n",
       "        vertical-align: top;\n",
       "    }\n",
       "\n",
       "    .dataframe thead th {\n",
       "        text-align: right;\n",
       "    }\n",
       "</style>\n",
       "<table border=\"1\" class=\"dataframe\">\n",
       "  <thead>\n",
       "    <tr style=\"text-align: right;\">\n",
       "      <th></th>\n",
       "      <th>count</th>\n",
       "      <th>mean</th>\n",
       "      <th>std</th>\n",
       "      <th>min</th>\n",
       "      <th>25%</th>\n",
       "      <th>50%</th>\n",
       "      <th>75%</th>\n",
       "      <th>max</th>\n",
       "    </tr>\n",
       "  </thead>\n",
       "  <tbody>\n",
       "    <tr>\n",
       "      <th>Distância_do_trabalho</th>\n",
       "      <td>1470.0</td>\n",
       "      <td>9.192517</td>\n",
       "      <td>8.106864</td>\n",
       "      <td>1.0</td>\n",
       "      <td>2.0</td>\n",
       "      <td>7.0</td>\n",
       "      <td>14.0</td>\n",
       "      <td>29.0</td>\n",
       "    </tr>\n",
       "  </tbody>\n",
       "</table>\n",
       "</div>"
      ],
      "text/plain": [
       "                        count      mean       std  min  25%  50%   75%   max\n",
       "Distância_do_trabalho  1470.0  9.192517  8.106864  1.0  2.0  7.0  14.0  29.0"
      ]
     },
     "execution_count": 13,
     "metadata": {},
     "output_type": "execute_result"
    }
   ],
   "source": [
    "df['Distância_do_trabalho'].describe().to_frame().T"
   ]
  },
  {
   "cell_type": "markdown",
   "metadata": {},
   "source": [
    "75% dos funcionários residem a no máximo 14km do trabalho."
   ]
  },
  {
   "cell_type": "markdown",
   "metadata": {},
   "source": [
    "### `Formação`"
   ]
  },
  {
   "cell_type": "code",
   "execution_count": 14,
   "metadata": {},
   "outputs": [
    {
     "data": {
      "image/png": "[encoded data removed]",
      "text/plain": [
       "<Figure size 640x480 with 1 Axes>"
      ]
     },
     "metadata": {},
     "output_type": "display_data"
    }
   ],
   "source": [
    "order = ['Ensino Técnico', 'Ensino Médio', 'Ensino Superior', 'Mestrado', 'Doutorado']\n",
    "\n",
    "sns.countplot(df, x='Formação', order=order)\n",
    "plt.title('Frequência da característica Formação')\n",
    "plt.xticks(rotation=30)\n",
    "plt.xlabel('')\n",
    "plt.ylabel('')\n",
    "\n",
    "sns.despine()\n",
    "plt.show()"
   ]
  },
  {
   "cell_type": "code",
   "execution_count": 15,
   "metadata": {},
   "outputs": [
    {
     "data": {
      "text/html": [
       "<div>\n",
       "<style scoped>\n",
       "    .dataframe tbody tr th:only-of-type {\n",
       "        vertical-align: middle;\n",
       "    }\n",
       "\n",
       "    .dataframe tbody tr th {\n",
       "        vertical-align: top;\n",
       "    }\n",
       "\n",
       "    .dataframe thead th {\n",
       "        text-align: right;\n",
       "    }\n",
       "</style>\n",
       "<table border=\"1\" class=\"dataframe\">\n",
       "  <thead>\n",
       "    <tr style=\"text-align: right;\">\n",
       "      <th>Formação</th>\n",
       "      <th>Ensino Superior</th>\n",
       "      <th>Mestrado</th>\n",
       "      <th>Ensino Técnico</th>\n",
       "      <th>Ensino Médio</th>\n",
       "      <th>Doutorado</th>\n",
       "    </tr>\n",
       "  </thead>\n",
       "  <tbody>\n",
       "    <tr>\n",
       "      <th>proportion</th>\n",
       "      <td>38.91</td>\n",
       "      <td>27.07</td>\n",
       "      <td>19.18</td>\n",
       "      <td>11.56</td>\n",
       "      <td>3.27</td>\n",
       "    </tr>\n",
       "  </tbody>\n",
       "</table>\n",
       "</div>"
      ],
      "text/plain": [
       "Formação    Ensino Superior  Mestrado  Ensino Técnico  Ensino Médio  Doutorado\n",
       "proportion            38.91     27.07           19.18         11.56       3.27"
      ]
     },
     "execution_count": 15,
     "metadata": {},
     "output_type": "execute_result"
    }
   ],
   "source": [
    "round(df['Formação'].value_counts(normalize=True)*100, 2).to_frame().T"
   ]
  },
  {
   "cell_type": "markdown",
   "metadata": {},
   "source": [
    "Aproximadamente 80% de nossa base possui no mínimo ensino superior"
   ]
  },
  {
   "cell_type": "markdown",
   "metadata": {},
   "source": [
    "### `E-Sat`"
   ]
  },
  {
   "cell_type": "code",
   "execution_count": 16,
   "metadata": {},
   "outputs": [
    {
     "data": {
      "image/png": "[encoded data removed]",
      "text/plain": [
       "<Figure size 640x480 with 1 Axes>"
      ]
     },
     "metadata": {},
     "output_type": "display_data"
    }
   ],
   "source": [
    "order = ['Baixo', 'Médio', 'Alto', 'Muito Alto']\n",
    "\n",
    "sns.countplot(df, x='E-Sat', order=order)\n",
    "plt.title('Frequência da característica E-Sat')\n",
    "plt.xticks(rotation=30)\n",
    "plt.xlabel('')\n",
    "plt.ylabel('')\n",
    "\n",
    "sns.despine()\n",
    "plt.show()"
   ]
  },
  {
   "cell_type": "code",
   "execution_count": 17,
   "metadata": {},
   "outputs": [
    {
     "data": {
      "text/html": [
       "<div>\n",
       "<style scoped>\n",
       "    .dataframe tbody tr th:only-of-type {\n",
       "        vertical-align: middle;\n",
       "    }\n",
       "\n",
       "    .dataframe tbody tr th {\n",
       "        vertical-align: top;\n",
       "    }\n",
       "\n",
       "    .dataframe thead th {\n",
       "        text-align: right;\n",
       "    }\n",
       "</style>\n",
       "<table border=\"1\" class=\"dataframe\">\n",
       "  <thead>\n",
       "    <tr style=\"text-align: right;\">\n",
       "      <th>E-Sat</th>\n",
       "      <th>Alto</th>\n",
       "      <th>Muito Alto</th>\n",
       "      <th>Médio</th>\n",
       "      <th>Baixo</th>\n",
       "    </tr>\n",
       "  </thead>\n",
       "  <tbody>\n",
       "    <tr>\n",
       "      <th>proportion</th>\n",
       "      <td>30.82</td>\n",
       "      <td>30.34</td>\n",
       "      <td>19.52</td>\n",
       "      <td>19.32</td>\n",
       "    </tr>\n",
       "  </tbody>\n",
       "</table>\n",
       "</div>"
      ],
      "text/plain": [
       "E-Sat        Alto  Muito Alto  Médio  Baixo\n",
       "proportion  30.82       30.34  19.52  19.32"
      ]
     },
     "execution_count": 17,
     "metadata": {},
     "output_type": "execute_result"
    }
   ],
   "source": [
    "round(df['E-Sat'].value_counts(normalize=True)*100, 2).to_frame().T"
   ]
  },
  {
   "cell_type": "markdown",
   "metadata": {},
   "source": [
    "Mais de 60% da nossa base está satisfeita com o clima organizacional"
   ]
  },
  {
   "cell_type": "markdown",
   "metadata": {},
   "source": [
    "### `Gênero`"
   ]
  },
  {
   "cell_type": "code",
   "execution_count": 18,
   "metadata": {},
   "outputs": [
    {
     "data": {
      "image/png": "[encoded data removed]",
      "text/plain": [
       "<Figure size 640x480 with 1 Axes>"
      ]
     },
     "metadata": {},
     "output_type": "display_data"
    }
   ],
   "source": [
    "sns.countplot(df, x='Gênero')\n",
    "plt.title('Frequência da característica Gênero')\n",
    "plt.xlabel('')\n",
    "plt.ylabel('')\n",
    "\n",
    "sns.despine()\n",
    "plt.show()"
   ]
  },
  {
   "cell_type": "code",
   "execution_count": 19,
   "metadata": {},
   "outputs": [
    {
     "data": {
      "text/html": [
       "<div>\n",
       "<style scoped>\n",
       "    .dataframe tbody tr th:only-of-type {\n",
       "        vertical-align: middle;\n",
       "    }\n",
       "\n",
       "    .dataframe tbody tr th {\n",
       "        vertical-align: top;\n",
       "    }\n",
       "\n",
       "    .dataframe thead th {\n",
       "        text-align: right;\n",
       "    }\n",
       "</style>\n",
       "<table border=\"1\" class=\"dataframe\">\n",
       "  <thead>\n",
       "    <tr style=\"text-align: right;\">\n",
       "      <th>Gênero</th>\n",
       "      <th>H</th>\n",
       "      <th>M</th>\n",
       "    </tr>\n",
       "  </thead>\n",
       "  <tbody>\n",
       "    <tr>\n",
       "      <th>proportion</th>\n",
       "      <td>60.0</td>\n",
       "      <td>40.0</td>\n",
       "    </tr>\n",
       "  </tbody>\n",
       "</table>\n",
       "</div>"
      ],
      "text/plain": [
       "Gênero         H     M\n",
       "proportion  60.0  40.0"
      ]
     },
     "execution_count": 19,
     "metadata": {},
     "output_type": "execute_result"
    }
   ],
   "source": [
    "round(df['Gênero'].value_counts(normalize=True)*100, 2).to_frame().T"
   ]
  },
  {
   "cell_type": "markdown",
   "metadata": {},
   "source": [
    "A maior parte de nossa base é composta pelo gênero masculino"
   ]
  },
  {
   "cell_type": "markdown",
   "metadata": {},
   "source": [
    "### `Estado_Civil`"
   ]
  },
  {
   "cell_type": "code",
   "execution_count": 20,
   "metadata": {},
   "outputs": [
    {
     "data": {
      "image/png": "[encoded data removed]",
      "text/plain": [
       "<Figure size 640x480 with 1 Axes>"
      ]
     },
     "metadata": {},
     "output_type": "display_data"
    }
   ],
   "source": [
    "sns.countplot(df, x='Estado_Civil')\n",
    "plt.title('Frequência da característica Estado_Civil')\n",
    "plt.xlabel('')\n",
    "plt.ylabel('')\n",
    "\n",
    "sns.despine()\n",
    "plt.show()"
   ]
  },
  {
   "cell_type": "code",
   "execution_count": 21,
   "metadata": {},
   "outputs": [
    {
     "data": {
      "text/html": [
       "<div>\n",
       "<style scoped>\n",
       "    .dataframe tbody tr th:only-of-type {\n",
       "        vertical-align: middle;\n",
       "    }\n",
       "\n",
       "    .dataframe tbody tr th {\n",
       "        vertical-align: top;\n",
       "    }\n",
       "\n",
       "    .dataframe thead th {\n",
       "        text-align: right;\n",
       "    }\n",
       "</style>\n",
       "<table border=\"1\" class=\"dataframe\">\n",
       "  <thead>\n",
       "    <tr style=\"text-align: right;\">\n",
       "      <th>Estado_Civil</th>\n",
       "      <th>Casado</th>\n",
       "      <th>Solteiro</th>\n",
       "      <th>Divorciado</th>\n",
       "    </tr>\n",
       "  </thead>\n",
       "  <tbody>\n",
       "    <tr>\n",
       "      <th>proportion</th>\n",
       "      <td>45.78</td>\n",
       "      <td>31.97</td>\n",
       "      <td>22.24</td>\n",
       "    </tr>\n",
       "  </tbody>\n",
       "</table>\n",
       "</div>"
      ],
      "text/plain": [
       "Estado_Civil  Casado  Solteiro  Divorciado\n",
       "proportion     45.78     31.97       22.24"
      ]
     },
     "execution_count": 21,
     "metadata": {},
     "output_type": "execute_result"
    }
   ],
   "source": [
    "round(df['Estado_Civil'].value_counts(normalize=True)*100, 2).to_frame().T"
   ]
  },
  {
   "cell_type": "markdown",
   "metadata": {},
   "source": [
    "Pelo menos 68% dos funcionários são ou já foram casados"
   ]
  },
  {
   "cell_type": "markdown",
   "metadata": {},
   "source": [
    "### `Salário`"
   ]
  },
  {
   "cell_type": "code",
   "execution_count": 22,
   "metadata": {},
   "outputs": [
    {
     "data": {
      "image/png": "[encoded data removed]",
      "text/plain": [
       "<Figure size 1200x400 with 2 Axes>"
      ]
     },
     "metadata": {},
     "output_type": "display_data"
    }
   ],
   "source": [
    "fig, (ax1, ax2) = plt.subplots(1, 2, figsize=(12,4))\n",
    "\n",
    "sns.histplot(df['Salário'], ax=ax1)\n",
    "ax1.set_title('Histograma da característica Salário')\n",
    "ax1.set_xlabel('')\n",
    "ax1.set_ylabel('Quantidade')\n",
    "\n",
    "sns.boxplot(df['Salário'], ax=ax2)\n",
    "ax2.set_title('Boxplot da característica Salário')\n",
    "ax2.set_xlabel('')\n",
    "ax2.set_ylabel('Salário')\n",
    "\n",
    "sns.despine()\n",
    "plt.show()"
   ]
  },
  {
   "cell_type": "code",
   "execution_count": 23,
   "metadata": {},
   "outputs": [
    {
     "data": {
      "text/html": [
       "<div>\n",
       "<style scoped>\n",
       "    .dataframe tbody tr th:only-of-type {\n",
       "        vertical-align: middle;\n",
       "    }\n",
       "\n",
       "    .dataframe tbody tr th {\n",
       "        vertical-align: top;\n",
       "    }\n",
       "\n",
       "    .dataframe thead th {\n",
       "        text-align: right;\n",
       "    }\n",
       "</style>\n",
       "<table border=\"1\" class=\"dataframe\">\n",
       "  <thead>\n",
       "    <tr style=\"text-align: right;\">\n",
       "      <th></th>\n",
       "      <th>count</th>\n",
       "      <th>mean</th>\n",
       "      <th>std</th>\n",
       "      <th>min</th>\n",
       "      <th>25%</th>\n",
       "      <th>50%</th>\n",
       "      <th>75%</th>\n",
       "      <th>max</th>\n",
       "    </tr>\n",
       "  </thead>\n",
       "  <tbody>\n",
       "    <tr>\n",
       "      <th>Salário</th>\n",
       "      <td>1470.0</td>\n",
       "      <td>6502.931293</td>\n",
       "      <td>4707.956783</td>\n",
       "      <td>1009.0</td>\n",
       "      <td>2911.0</td>\n",
       "      <td>4919.0</td>\n",
       "      <td>8379.0</td>\n",
       "      <td>19999.0</td>\n",
       "    </tr>\n",
       "  </tbody>\n",
       "</table>\n",
       "</div>"
      ],
      "text/plain": [
       "          count         mean          std     min     25%     50%     75%  \\\n",
       "Salário  1470.0  6502.931293  4707.956783  1009.0  2911.0  4919.0  8379.0   \n",
       "\n",
       "             max  \n",
       "Salário  19999.0  "
      ]
     },
     "execution_count": 23,
     "metadata": {},
     "output_type": "execute_result"
    }
   ],
   "source": [
    "df['Salário'].describe().to_frame().T"
   ]
  },
  {
   "cell_type": "markdown",
   "metadata": {},
   "source": [
    "Metade dos funcionários recebem até R$ 4919,00. Há salários maiores que devem ser destinados a altos cargos na empresa"
   ]
  },
  {
   "cell_type": "markdown",
   "metadata": {},
   "source": [
    "### `Qte_Empresas_Trabalhadas`"
   ]
  },
  {
   "cell_type": "code",
   "execution_count": 24,
   "metadata": {},
   "outputs": [
    {
     "data": {
      "image/png": "[encoded data removed]",
      "text/plain": [
       "<Figure size 1200x400 with 2 Axes>"
      ]
     },
     "metadata": {},
     "output_type": "display_data"
    }
   ],
   "source": [
    "fig, (ax1, ax2) = plt.subplots(1, 2, figsize=(12,4))\n",
    "\n",
    "sns.histplot(df['Qte_Empresas_Trabalhadas'], ax=ax1)\n",
    "ax1.set_title('Histograma da característica Qte_Empresas_Trabalhadas')\n",
    "ax1.set_xlabel('')\n",
    "ax1.set_ylabel('Quantidade')\n",
    "\n",
    "sns.boxplot(df['Qte_Empresas_Trabalhadas'], ax=ax2)\n",
    "ax2.set_title('Boxplot da característica Qte_Empresas_Trabalhadas')\n",
    "ax2.set_xlabel('')\n",
    "ax2.set_ylabel('Qte_Empresas_Trabalhadas')\n",
    "\n",
    "sns.despine()\n",
    "plt.show()"
   ]
  },
  {
   "cell_type": "code",
   "execution_count": 25,
   "metadata": {},
   "outputs": [
    {
     "data": {
      "text/html": [
       "<div>\n",
       "<style scoped>\n",
       "    .dataframe tbody tr th:only-of-type {\n",
       "        vertical-align: middle;\n",
       "    }\n",
       "\n",
       "    .dataframe tbody tr th {\n",
       "        vertical-align: top;\n",
       "    }\n",
       "\n",
       "    .dataframe thead th {\n",
       "        text-align: right;\n",
       "    }\n",
       "</style>\n",
       "<table border=\"1\" class=\"dataframe\">\n",
       "  <thead>\n",
       "    <tr style=\"text-align: right;\">\n",
       "      <th></th>\n",
       "      <th>count</th>\n",
       "      <th>mean</th>\n",
       "      <th>std</th>\n",
       "      <th>min</th>\n",
       "      <th>25%</th>\n",
       "      <th>50%</th>\n",
       "      <th>75%</th>\n",
       "      <th>max</th>\n",
       "    </tr>\n",
       "  </thead>\n",
       "  <tbody>\n",
       "    <tr>\n",
       "      <th>Qte_Empresas_Trabalhadas</th>\n",
       "      <td>1470.0</td>\n",
       "      <td>2.693197</td>\n",
       "      <td>2.498009</td>\n",
       "      <td>0.0</td>\n",
       "      <td>1.0</td>\n",
       "      <td>2.0</td>\n",
       "      <td>4.0</td>\n",
       "      <td>9.0</td>\n",
       "    </tr>\n",
       "  </tbody>\n",
       "</table>\n",
       "</div>"
      ],
      "text/plain": [
       "                           count      mean       std  min  25%  50%  75%  max\n",
       "Qte_Empresas_Trabalhadas  1470.0  2.693197  2.498009  0.0  1.0  2.0  4.0  9.0"
      ]
     },
     "execution_count": 25,
     "metadata": {},
     "output_type": "execute_result"
    }
   ],
   "source": [
    "df['Qte_Empresas_Trabalhadas'].describe().to_frame().T"
   ]
  },
  {
   "cell_type": "markdown",
   "metadata": {},
   "source": [
    "Pelo menos 75% dos funcionários já passaram por outras empresas antes"
   ]
  },
  {
   "cell_type": "markdown",
   "metadata": {},
   "source": [
    "### `Faz_hora_extras?`"
   ]
  },
  {
   "cell_type": "code",
   "execution_count": 26,
   "metadata": {},
   "outputs": [
    {
     "data": {
      "image/png": "[encoded data removed]",
      "text/plain": [
       "<Figure size 640x480 with 1 Axes>"
      ]
     },
     "metadata": {},
     "output_type": "display_data"
    }
   ],
   "source": [
    "sns.countplot(df, x='Faz_hora_extras?')\n",
    "plt.title('Frequência da característica Faz_hora_extras?')\n",
    "plt.xlabel('')\n",
    "plt.ylabel('')\n",
    "\n",
    "sns.despine()\n",
    "plt.show()"
   ]
  },
  {
   "cell_type": "code",
   "execution_count": 27,
   "metadata": {},
   "outputs": [
    {
     "data": {
      "text/html": [
       "<div>\n",
       "<style scoped>\n",
       "    .dataframe tbody tr th:only-of-type {\n",
       "        vertical-align: middle;\n",
       "    }\n",
       "\n",
       "    .dataframe tbody tr th {\n",
       "        vertical-align: top;\n",
       "    }\n",
       "\n",
       "    .dataframe thead th {\n",
       "        text-align: right;\n",
       "    }\n",
       "</style>\n",
       "<table border=\"1\" class=\"dataframe\">\n",
       "  <thead>\n",
       "    <tr style=\"text-align: right;\">\n",
       "      <th>Faz_hora_extras?</th>\n",
       "      <th>Não</th>\n",
       "      <th>Sim</th>\n",
       "    </tr>\n",
       "  </thead>\n",
       "  <tbody>\n",
       "    <tr>\n",
       "      <th>proportion</th>\n",
       "      <td>71.7</td>\n",
       "      <td>28.3</td>\n",
       "    </tr>\n",
       "  </tbody>\n",
       "</table>\n",
       "</div>"
      ],
      "text/plain": [
       "Faz_hora_extras?   Não   Sim\n",
       "proportion        71.7  28.3"
      ]
     },
     "execution_count": 27,
     "metadata": {},
     "output_type": "execute_result"
    }
   ],
   "source": [
    "round(df['Faz_hora_extras?'].value_counts(normalize=True)*100, 2).to_frame().T"
   ]
  },
  {
   "cell_type": "markdown",
   "metadata": {},
   "source": [
    "Grande parte dos nossos funcionários não costumam fazer hora extra"
   ]
  },
  {
   "cell_type": "markdown",
   "metadata": {},
   "source": [
    "### `Perc_de_aumento`"
   ]
  },
  {
   "cell_type": "code",
   "execution_count": 28,
   "metadata": {},
   "outputs": [
    {
     "data": {
      "image/png": "[encoded data removed]",
      "text/plain": [
       "<Figure size 1200x400 with 2 Axes>"
      ]
     },
     "metadata": {},
     "output_type": "display_data"
    }
   ],
   "source": [
    "fig, (ax1, ax2) = plt.subplots(1, 2, figsize=(12,4))\n",
    "\n",
    "sns.histplot(df['Perc_de_aumento'], ax=ax1)\n",
    "ax1.set_title('Histograma da característica Perc_de_aumento')\n",
    "ax1.set_xlabel('')\n",
    "ax1.set_ylabel('QuantPerc_de_aumento')\n",
    "\n",
    "sns.boxplot(df['Perc_de_aumento'], ax=ax2)\n",
    "ax2.set_title('Boxplot da característica Perc_de_aumento')\n",
    "ax2.set_xlabel('')\n",
    "ax2.set_ylabel('Perc_de_aumento')\n",
    "\n",
    "sns.despine()\n",
    "plt.show()"
   ]
  },
  {
   "cell_type": "code",
   "execution_count": 29,
   "metadata": {},
   "outputs": [
    {
     "data": {
      "text/html": [
       "<div>\n",
       "<style scoped>\n",
       "    .dataframe tbody tr th:only-of-type {\n",
       "        vertical-align: middle;\n",
       "    }\n",
       "\n",
       "    .dataframe tbody tr th {\n",
       "        vertical-align: top;\n",
       "    }\n",
       "\n",
       "    .dataframe thead th {\n",
       "        text-align: right;\n",
       "    }\n",
       "</style>\n",
       "<table border=\"1\" class=\"dataframe\">\n",
       "  <thead>\n",
       "    <tr style=\"text-align: right;\">\n",
       "      <th></th>\n",
       "      <th>count</th>\n",
       "      <th>mean</th>\n",
       "      <th>std</th>\n",
       "      <th>min</th>\n",
       "      <th>25%</th>\n",
       "      <th>50%</th>\n",
       "      <th>75%</th>\n",
       "      <th>max</th>\n",
       "    </tr>\n",
       "  </thead>\n",
       "  <tbody>\n",
       "    <tr>\n",
       "      <th>Perc_de_aumento</th>\n",
       "      <td>1470.0</td>\n",
       "      <td>15.209524</td>\n",
       "      <td>3.659938</td>\n",
       "      <td>11.0</td>\n",
       "      <td>12.0</td>\n",
       "      <td>14.0</td>\n",
       "      <td>18.0</td>\n",
       "      <td>25.0</td>\n",
       "    </tr>\n",
       "  </tbody>\n",
       "</table>\n",
       "</div>"
      ],
      "text/plain": [
       "                  count       mean       std   min   25%   50%   75%   max\n",
       "Perc_de_aumento  1470.0  15.209524  3.659938  11.0  12.0  14.0  18.0  25.0"
      ]
     },
     "execution_count": 29,
     "metadata": {},
     "output_type": "execute_result"
    }
   ],
   "source": [
    "df['Perc_de_aumento'].describe().to_frame().T"
   ]
  },
  {
   "cell_type": "markdown",
   "metadata": {},
   "source": [
    "50% dos funcionários tiveram de 12% a 18% de aumento de salário nos anos de 2018 e 2019"
   ]
  },
  {
   "cell_type": "markdown",
   "metadata": {},
   "source": [
    "### `Qte_ações_da_empresa`"
   ]
  },
  {
   "cell_type": "code",
   "execution_count": 30,
   "metadata": {},
   "outputs": [
    {
     "data": {
      "image/png": "[encoded data removed]",
      "text/plain": [
       "<Figure size 640x480 with 1 Axes>"
      ]
     },
     "metadata": {},
     "output_type": "display_data"
    }
   ],
   "source": [
    "sns.countplot(df, x='Qte_ações_da_empresa')\n",
    "plt.title('Frequência da característica Qte_ações_da_empresa')\n",
    "plt.xlabel('')\n",
    "plt.ylabel('')\n",
    "\n",
    "sns.despine()\n",
    "plt.show()"
   ]
  },
  {
   "cell_type": "code",
   "execution_count": 31,
   "metadata": {},
   "outputs": [
    {
     "data": {
      "text/html": [
       "<div>\n",
       "<style scoped>\n",
       "    .dataframe tbody tr th:only-of-type {\n",
       "        vertical-align: middle;\n",
       "    }\n",
       "\n",
       "    .dataframe tbody tr th {\n",
       "        vertical-align: top;\n",
       "    }\n",
       "\n",
       "    .dataframe thead th {\n",
       "        text-align: right;\n",
       "    }\n",
       "</style>\n",
       "<table border=\"1\" class=\"dataframe\">\n",
       "  <thead>\n",
       "    <tr style=\"text-align: right;\">\n",
       "      <th>Qte_ações_da_empresa</th>\n",
       "      <th>0</th>\n",
       "      <th>1</th>\n",
       "      <th>2</th>\n",
       "      <th>3</th>\n",
       "    </tr>\n",
       "  </thead>\n",
       "  <tbody>\n",
       "    <tr>\n",
       "      <th>proportion</th>\n",
       "      <td>42.93</td>\n",
       "      <td>40.54</td>\n",
       "      <td>10.75</td>\n",
       "      <td>5.78</td>\n",
       "    </tr>\n",
       "  </tbody>\n",
       "</table>\n",
       "</div>"
      ],
      "text/plain": [
       "Qte_ações_da_empresa      0      1      2     3\n",
       "proportion            42.93  40.54  10.75  5.78"
      ]
     },
     "execution_count": 31,
     "metadata": {},
     "output_type": "execute_result"
    }
   ],
   "source": [
    "round(df['Qte_ações_da_empresa'].value_counts(normalize=True)*100, 2).to_frame().T"
   ]
  },
  {
   "cell_type": "markdown",
   "metadata": {},
   "source": [
    "57% dos funcionários possuem pelo menos 1 ação da empresa"
   ]
  },
  {
   "cell_type": "markdown",
   "metadata": {},
   "source": [
    "### `Tempo_de_carreira`"
   ]
  },
  {
   "cell_type": "code",
   "execution_count": 32,
   "metadata": {},
   "outputs": [
    {
     "data": {
      "image/png": "[encoded data removed]",
      "text/plain": [
       "<Figure size 1200x400 with 2 Axes>"
      ]
     },
     "metadata": {},
     "output_type": "display_data"
    }
   ],
   "source": [
    "fig, (ax1, ax2) = plt.subplots(1, 2, figsize=(12,4))\n",
    "\n",
    "sns.histplot(df['Tempo_de_carreira'], ax=ax1)\n",
    "ax1.set_title('Histograma da característica Tempo_de_carreira')\n",
    "ax1.set_xlabel('')\n",
    "ax1.set_ylabel('Quantidade')\n",
    "\n",
    "sns.boxplot(df['Tempo_de_carreira'], ax=ax2)\n",
    "ax2.set_title('Boxplot da característica Tempo_de_carreira')\n",
    "ax2.set_xlabel('')\n",
    "ax2.set_ylabel('Tempo_de_carreira')\n",
    "\n",
    "sns.despine()\n",
    "plt.show()"
   ]
  },
  {
   "cell_type": "code",
   "execution_count": 33,
   "metadata": {},
   "outputs": [
    {
     "data": {
      "text/html": [
       "<div>\n",
       "<style scoped>\n",
       "    .dataframe tbody tr th:only-of-type {\n",
       "        vertical-align: middle;\n",
       "    }\n",
       "\n",
       "    .dataframe tbody tr th {\n",
       "        vertical-align: top;\n",
       "    }\n",
       "\n",
       "    .dataframe thead th {\n",
       "        text-align: right;\n",
       "    }\n",
       "</style>\n",
       "<table border=\"1\" class=\"dataframe\">\n",
       "  <thead>\n",
       "    <tr style=\"text-align: right;\">\n",
       "      <th></th>\n",
       "      <th>count</th>\n",
       "      <th>mean</th>\n",
       "      <th>std</th>\n",
       "      <th>min</th>\n",
       "      <th>25%</th>\n",
       "      <th>50%</th>\n",
       "      <th>75%</th>\n",
       "      <th>max</th>\n",
       "    </tr>\n",
       "  </thead>\n",
       "  <tbody>\n",
       "    <tr>\n",
       "      <th>Tempo_de_carreira</th>\n",
       "      <td>1470.0</td>\n",
       "      <td>11.279592</td>\n",
       "      <td>7.780782</td>\n",
       "      <td>0.0</td>\n",
       "      <td>6.0</td>\n",
       "      <td>10.0</td>\n",
       "      <td>15.0</td>\n",
       "      <td>40.0</td>\n",
       "    </tr>\n",
       "  </tbody>\n",
       "</table>\n",
       "</div>"
      ],
      "text/plain": [
       "                    count       mean       std  min  25%   50%   75%   max\n",
       "Tempo_de_carreira  1470.0  11.279592  7.780782  0.0  6.0  10.0  15.0  40.0"
      ]
     },
     "execution_count": 33,
     "metadata": {},
     "output_type": "execute_result"
    }
   ],
   "source": [
    "df['Tempo_de_carreira'].describe().to_frame().T"
   ]
  },
  {
   "cell_type": "markdown",
   "metadata": {},
   "source": [
    "A maioria dos funcionários tem uma experiência de 6 a 15 anos de carreira"
   ]
  },
  {
   "cell_type": "markdown",
   "metadata": {},
   "source": [
    "### `Horas de treinamento`"
   ]
  },
  {
   "cell_type": "code",
   "execution_count": 34,
   "metadata": {},
   "outputs": [
    {
     "data": {
      "image/png": "[encoded data removed]",
      "text/plain": [
       "<Figure size 1200x400 with 2 Axes>"
      ]
     },
     "metadata": {},
     "output_type": "display_data"
    }
   ],
   "source": [
    "fig, (ax1, ax2) = plt.subplots(1, 2, figsize=(12,4))\n",
    "\n",
    "sns.histplot(df['Horas_de_treinamento'], ax=ax1)\n",
    "ax1.set_title('Histograma da característica Horas_de_treinamento')\n",
    "ax1.set_xlabel('')\n",
    "ax1.set_ylabel('Quantidade')\n",
    "\n",
    "sns.boxplot(df['Horas_de_treinamento'], ax=ax2)\n",
    "ax2.set_title('Boxplot da característica Horas_de_treinamento')\n",
    "ax2.set_xlabel('')\n",
    "ax2.set_ylabel('Horas_de_treinamento')\n",
    "\n",
    "sns.despine()\n",
    "plt.show()"
   ]
  },
  {
   "cell_type": "code",
   "execution_count": 35,
   "metadata": {},
   "outputs": [
    {
     "data": {
      "text/html": [
       "<div>\n",
       "<style scoped>\n",
       "    .dataframe tbody tr th:only-of-type {\n",
       "        vertical-align: middle;\n",
       "    }\n",
       "\n",
       "    .dataframe tbody tr th {\n",
       "        vertical-align: top;\n",
       "    }\n",
       "\n",
       "    .dataframe thead th {\n",
       "        text-align: right;\n",
       "    }\n",
       "</style>\n",
       "<table border=\"1\" class=\"dataframe\">\n",
       "  <thead>\n",
       "    <tr style=\"text-align: right;\">\n",
       "      <th></th>\n",
       "      <th>count</th>\n",
       "      <th>mean</th>\n",
       "      <th>std</th>\n",
       "      <th>min</th>\n",
       "      <th>25%</th>\n",
       "      <th>50%</th>\n",
       "      <th>75%</th>\n",
       "      <th>max</th>\n",
       "    </tr>\n",
       "  </thead>\n",
       "  <tbody>\n",
       "    <tr>\n",
       "      <th>Horas_de_treinamento</th>\n",
       "      <td>1470.0</td>\n",
       "      <td>2.79932</td>\n",
       "      <td>1.289271</td>\n",
       "      <td>0.0</td>\n",
       "      <td>2.0</td>\n",
       "      <td>3.0</td>\n",
       "      <td>3.0</td>\n",
       "      <td>6.0</td>\n",
       "    </tr>\n",
       "  </tbody>\n",
       "</table>\n",
       "</div>"
      ],
      "text/plain": [
       "                       count     mean       std  min  25%  50%  75%  max\n",
       "Horas_de_treinamento  1470.0  2.79932  1.289271  0.0  2.0  3.0  3.0  6.0"
      ]
     },
     "execution_count": 35,
     "metadata": {},
     "output_type": "execute_result"
    }
   ],
   "source": [
    "df['Horas_de_treinamento'].describe().to_frame().T"
   ]
  },
  {
   "cell_type": "markdown",
   "metadata": {},
   "source": [
    "A maior parte dos funcionários tiveram de 2 a 3 horas de treinamento no ano passado"
   ]
  },
  {
   "cell_type": "markdown",
   "metadata": {},
   "source": [
    "### `Equilibrio_de_Vida`"
   ]
  },
  {
   "cell_type": "code",
   "execution_count": 36,
   "metadata": {},
   "outputs": [
    {
     "data": {
      "image/png": "[encoded data removed]",
      "text/plain": [
       "<Figure size 640x480 with 1 Axes>"
      ]
     },
     "metadata": {},
     "output_type": "display_data"
    }
   ],
   "source": [
    "order = ['Ruim', 'Bom', 'Muito bom', 'Excelente']\n",
    "\n",
    "sns.countplot(df, x='Equilibrio_de_Vida', order=order)\n",
    "plt.title('Frequência da característica Equilibrio_de_Vida')\n",
    "plt.xlabel('')\n",
    "plt.ylabel('')\n",
    "\n",
    "sns.despine()\n",
    "plt.show()"
   ]
  },
  {
   "cell_type": "code",
   "execution_count": 37,
   "metadata": {},
   "outputs": [
    {
     "data": {
      "text/html": [
       "<div>\n",
       "<style scoped>\n",
       "    .dataframe tbody tr th:only-of-type {\n",
       "        vertical-align: middle;\n",
       "    }\n",
       "\n",
       "    .dataframe tbody tr th {\n",
       "        vertical-align: top;\n",
       "    }\n",
       "\n",
       "    .dataframe thead th {\n",
       "        text-align: right;\n",
       "    }\n",
       "</style>\n",
       "<table border=\"1\" class=\"dataframe\">\n",
       "  <thead>\n",
       "    <tr style=\"text-align: right;\">\n",
       "      <th>Equilibrio_de_Vida</th>\n",
       "      <th>Muito bom</th>\n",
       "      <th>Bom</th>\n",
       "      <th>Excelente</th>\n",
       "      <th>Ruim</th>\n",
       "    </tr>\n",
       "  </thead>\n",
       "  <tbody>\n",
       "    <tr>\n",
       "      <th>proportion</th>\n",
       "      <td>60.75</td>\n",
       "      <td>23.4</td>\n",
       "      <td>10.41</td>\n",
       "      <td>5.44</td>\n",
       "    </tr>\n",
       "  </tbody>\n",
       "</table>\n",
       "</div>"
      ],
      "text/plain": [
       "Equilibrio_de_Vida  Muito bom   Bom  Excelente  Ruim\n",
       "proportion              60.75  23.4      10.41  5.44"
      ]
     },
     "execution_count": 37,
     "metadata": {},
     "output_type": "execute_result"
    }
   ],
   "source": [
    "round(df['Equilibrio_de_Vida'].value_counts(normalize=True)*100, 2).to_frame().T"
   ]
  },
  {
   "cell_type": "markdown",
   "metadata": {},
   "source": [
    "71% dos funcionários estão felizes com seu equilibrio entre a vida pessoal e profissional"
   ]
  },
  {
   "cell_type": "markdown",
   "metadata": {},
   "source": [
    "### `Tempo_de_empresa`"
   ]
  },
  {
   "cell_type": "code",
   "execution_count": 38,
   "metadata": {},
   "outputs": [
    {
     "data": {
      "image/png": "[encoded data removed]",
      "text/plain": [
       "<Figure size 1200x400 with 2 Axes>"
      ]
     },
     "metadata": {},
     "output_type": "display_data"
    }
   ],
   "source": [
    "fig, (ax1, ax2) = plt.subplots(1, 2, figsize=(12,4))\n",
    "\n",
    "sns.histplot(df['Tempo_de_empresa'], ax=ax1)\n",
    "ax1.set_title('Histograma da característica Tempo_de_empresa')\n",
    "ax1.set_xlabel('')\n",
    "ax1.set_ylabel('Quantidade')\n",
    "\n",
    "sns.boxplot(df['Tempo_de_empresa'], ax=ax2)\n",
    "ax2.set_title('Boxplot da característica Tempo_de_empresa')\n",
    "ax2.set_xlabel('')\n",
    "ax2.set_ylabel('Tempo_de_empresa')\n",
    "\n",
    "sns.despine()\n",
    "plt.show()"
   ]
  },
  {
   "cell_type": "code",
   "execution_count": 39,
   "metadata": {},
   "outputs": [
    {
     "data": {
      "text/html": [
       "<div>\n",
       "<style scoped>\n",
       "    .dataframe tbody tr th:only-of-type {\n",
       "        vertical-align: middle;\n",
       "    }\n",
       "\n",
       "    .dataframe tbody tr th {\n",
       "        vertical-align: top;\n",
       "    }\n",
       "\n",
       "    .dataframe thead th {\n",
       "        text-align: right;\n",
       "    }\n",
       "</style>\n",
       "<table border=\"1\" class=\"dataframe\">\n",
       "  <thead>\n",
       "    <tr style=\"text-align: right;\">\n",
       "      <th></th>\n",
       "      <th>count</th>\n",
       "      <th>mean</th>\n",
       "      <th>std</th>\n",
       "      <th>min</th>\n",
       "      <th>25%</th>\n",
       "      <th>50%</th>\n",
       "      <th>75%</th>\n",
       "      <th>max</th>\n",
       "    </tr>\n",
       "  </thead>\n",
       "  <tbody>\n",
       "    <tr>\n",
       "      <th>Tempo_de_empresa</th>\n",
       "      <td>1470.0</td>\n",
       "      <td>7.008163</td>\n",
       "      <td>6.126525</td>\n",
       "      <td>0.0</td>\n",
       "      <td>3.0</td>\n",
       "      <td>5.0</td>\n",
       "      <td>9.0</td>\n",
       "      <td>40.0</td>\n",
       "    </tr>\n",
       "  </tbody>\n",
       "</table>\n",
       "</div>"
      ],
      "text/plain": [
       "                   count      mean       std  min  25%  50%  75%   max\n",
       "Tempo_de_empresa  1470.0  7.008163  6.126525  0.0  3.0  5.0  9.0  40.0"
      ]
     },
     "execution_count": 39,
     "metadata": {},
     "output_type": "execute_result"
    }
   ],
   "source": [
    "df['Tempo_de_empresa'].describe().to_frame().T"
   ]
  },
  {
   "cell_type": "markdown",
   "metadata": {},
   "source": [
    "Até 75% dos funcionários tem no mínimo 3 anos de empresa"
   ]
  },
  {
   "cell_type": "markdown",
   "metadata": {},
   "source": [
    "### `Anos_no_mesmo_cargo`"
   ]
  },
  {
   "cell_type": "code",
   "execution_count": 40,
   "metadata": {},
   "outputs": [
    {
     "data": {
      "image/png": "[encoded data removed]",
      "text/plain": [
       "<Figure size 1200x400 with 2 Axes>"
      ]
     },
     "metadata": {},
     "output_type": "display_data"
    }
   ],
   "source": [
    "fig, (ax1, ax2) = plt.subplots(1, 2, figsize=(12,4))\n",
    "\n",
    "sns.histplot(df['Anos_no_mesmo_cargo'], ax=ax1)\n",
    "ax1.set_title('Histograma da característica Anos_no_mesmo_cargo')\n",
    "ax1.set_xlabel('')\n",
    "ax1.set_ylabel('Quantidade')\n",
    "\n",
    "sns.boxplot(df['Anos_no_mesmo_cargo'], ax=ax2)\n",
    "ax2.set_title('Boxplot da característica Anos_no_mesmo_cargo')\n",
    "ax2.set_xlabel('')\n",
    "ax2.set_ylabel('Anos_no_mesmo_cargo')\n",
    "\n",
    "sns.despine()\n",
    "plt.show()"
   ]
  },
  {
   "cell_type": "code",
   "execution_count": 41,
   "metadata": {},
   "outputs": [
    {
     "data": {
      "text/html": [
       "<div>\n",
       "<style scoped>\n",
       "    .dataframe tbody tr th:only-of-type {\n",
       "        vertical-align: middle;\n",
       "    }\n",
       "\n",
       "    .dataframe tbody tr th {\n",
       "        vertical-align: top;\n",
       "    }\n",
       "\n",
       "    .dataframe thead th {\n",
       "        text-align: right;\n",
       "    }\n",
       "</style>\n",
       "<table border=\"1\" class=\"dataframe\">\n",
       "  <thead>\n",
       "    <tr style=\"text-align: right;\">\n",
       "      <th></th>\n",
       "      <th>count</th>\n",
       "      <th>mean</th>\n",
       "      <th>std</th>\n",
       "      <th>min</th>\n",
       "      <th>25%</th>\n",
       "      <th>50%</th>\n",
       "      <th>75%</th>\n",
       "      <th>max</th>\n",
       "    </tr>\n",
       "  </thead>\n",
       "  <tbody>\n",
       "    <tr>\n",
       "      <th>Anos_no_mesmo_cargo</th>\n",
       "      <td>1470.0</td>\n",
       "      <td>4.229252</td>\n",
       "      <td>3.623137</td>\n",
       "      <td>0.0</td>\n",
       "      <td>2.0</td>\n",
       "      <td>3.0</td>\n",
       "      <td>7.0</td>\n",
       "      <td>18.0</td>\n",
       "    </tr>\n",
       "  </tbody>\n",
       "</table>\n",
       "</div>"
      ],
      "text/plain": [
       "                      count      mean       std  min  25%  50%  75%   max\n",
       "Anos_no_mesmo_cargo  1470.0  4.229252  3.623137  0.0  2.0  3.0  7.0  18.0"
      ]
     },
     "execution_count": 41,
     "metadata": {},
     "output_type": "execute_result"
    }
   ],
   "source": [
    "df['Anos_no_mesmo_cargo'].describe().to_frame().T"
   ]
  },
  {
   "cell_type": "markdown",
   "metadata": {},
   "source": [
    "Até 50% dos funcionários estão a 3 anos no mesmo cargo. Os valores discrepantes devem ser de funcionários em altos cargos na empresa."
   ]
  },
  {
   "cell_type": "markdown",
   "metadata": {},
   "source": [
    "### `Anos_desde_a_ultima_promocao`"
   ]
  },
  {
   "cell_type": "code",
   "execution_count": 42,
   "metadata": {},
   "outputs": [
    {
     "data": {
      "image/png": "[encoded data removed]",
      "text/plain": [
       "<Figure size 1200x400 with 2 Axes>"
      ]
     },
     "metadata": {},
     "output_type": "display_data"
    }
   ],
   "source": [
    "fig, (ax1, ax2) = plt.subplots(1, 2, figsize=(12,4))\n",
    "\n",
    "sns.histplot(df['Anos_desde_a_ultima_promocao'], ax=ax1)\n",
    "ax1.set_title('Histograma da característica Anos_desde_a_ultima_promocao')\n",
    "ax1.set_xlabel('')\n",
    "ax1.set_ylabel('Quantidade')\n",
    "\n",
    "sns.boxplot(df['Anos_desde_a_ultima_promocao'], ax=ax2)\n",
    "ax2.set_title('Boxplot da característica Anos_desde_a_ultima_promocao')\n",
    "ax2.set_xlabel('')\n",
    "ax2.set_ylabel('Anos_desde_a_ultima_promocao')\n",
    "\n",
    "sns.despine()\n",
    "plt.show()"
   ]
  },
  {
   "cell_type": "code",
   "execution_count": 43,
   "metadata": {},
   "outputs": [
    {
     "data": {
      "text/html": [
       "<div>\n",
       "<style scoped>\n",
       "    .dataframe tbody tr th:only-of-type {\n",
       "        vertical-align: middle;\n",
       "    }\n",
       "\n",
       "    .dataframe tbody tr th {\n",
       "        vertical-align: top;\n",
       "    }\n",
       "\n",
       "    .dataframe thead th {\n",
       "        text-align: right;\n",
       "    }\n",
       "</style>\n",
       "<table border=\"1\" class=\"dataframe\">\n",
       "  <thead>\n",
       "    <tr style=\"text-align: right;\">\n",
       "      <th></th>\n",
       "      <th>count</th>\n",
       "      <th>mean</th>\n",
       "      <th>std</th>\n",
       "      <th>min</th>\n",
       "      <th>25%</th>\n",
       "      <th>50%</th>\n",
       "      <th>75%</th>\n",
       "      <th>max</th>\n",
       "    </tr>\n",
       "  </thead>\n",
       "  <tbody>\n",
       "    <tr>\n",
       "      <th>Anos_desde_a_ultima_promocao</th>\n",
       "      <td>1470.0</td>\n",
       "      <td>2.187755</td>\n",
       "      <td>3.22243</td>\n",
       "      <td>0.0</td>\n",
       "      <td>0.0</td>\n",
       "      <td>1.0</td>\n",
       "      <td>3.0</td>\n",
       "      <td>15.0</td>\n",
       "    </tr>\n",
       "  </tbody>\n",
       "</table>\n",
       "</div>"
      ],
      "text/plain": [
       "                               count      mean      std  min  25%  50%  75%  \\\n",
       "Anos_desde_a_ultima_promocao  1470.0  2.187755  3.22243  0.0  0.0  1.0  3.0   \n",
       "\n",
       "                               max  \n",
       "Anos_desde_a_ultima_promocao  15.0  "
      ]
     },
     "execution_count": 43,
     "metadata": {},
     "output_type": "execute_result"
    }
   ],
   "source": [
    "df['Anos_desde_a_ultima_promocao'].describe().to_frame().T"
   ]
  },
  {
   "cell_type": "markdown",
   "metadata": {},
   "source": [
    "Muito comum os funcionários receberem uma promoção em por volta de um ano de empresa"
   ]
  },
  {
   "cell_type": "markdown",
   "metadata": {},
   "source": [
    "### `Anos_com_o_mesmo_chefe`"
   ]
  },
  {
   "cell_type": "code",
   "execution_count": 44,
   "metadata": {},
   "outputs": [
    {
     "data": {
      "image/png": "[encoded data removed]",
      "text/plain": [
       "<Figure size 1200x400 with 2 Axes>"
      ]
     },
     "metadata": {},
     "output_type": "display_data"
    }
   ],
   "source": [
    "fig, (ax1, ax2) = plt.subplots(1, 2, figsize=(12,4))\n",
    "\n",
    "sns.histplot(df['Anos_com_o_mesmo_chefe'], ax=ax1)\n",
    "ax1.set_title('Histograma da característica Anos_com_o_mesmo_chefe')\n",
    "ax1.set_xlabel('')\n",
    "ax1.set_ylabel('Quantidade')\n",
    "\n",
    "sns.boxplot(df['Anos_com_o_mesmo_chefe'], ax=ax2)\n",
    "ax2.set_title('Boxplot da característica Anos_com_o_mesmo_chefe')\n",
    "ax2.set_xlabel('')\n",
    "ax2.set_ylabel('Anos_com_o_mesmo_chefe')\n",
    "\n",
    "sns.despine()\n",
    "plt.show()"
   ]
  },
  {
   "cell_type": "code",
   "execution_count": 45,
   "metadata": {},
   "outputs": [
    {
     "data": {
      "text/html": [
       "<div>\n",
       "<style scoped>\n",
       "    .dataframe tbody tr th:only-of-type {\n",
       "        vertical-align: middle;\n",
       "    }\n",
       "\n",
       "    .dataframe tbody tr th {\n",
       "        vertical-align: top;\n",
       "    }\n",
       "\n",
       "    .dataframe thead th {\n",
       "        text-align: right;\n",
       "    }\n",
       "</style>\n",
       "<table border=\"1\" class=\"dataframe\">\n",
       "  <thead>\n",
       "    <tr style=\"text-align: right;\">\n",
       "      <th></th>\n",
       "      <th>count</th>\n",
       "      <th>mean</th>\n",
       "      <th>std</th>\n",
       "      <th>min</th>\n",
       "      <th>25%</th>\n",
       "      <th>50%</th>\n",
       "      <th>75%</th>\n",
       "      <th>max</th>\n",
       "    </tr>\n",
       "  </thead>\n",
       "  <tbody>\n",
       "    <tr>\n",
       "      <th>Anos_com_o_mesmo_chefe</th>\n",
       "      <td>1470.0</td>\n",
       "      <td>4.123129</td>\n",
       "      <td>3.568136</td>\n",
       "      <td>0.0</td>\n",
       "      <td>2.0</td>\n",
       "      <td>3.0</td>\n",
       "      <td>7.0</td>\n",
       "      <td>17.0</td>\n",
       "    </tr>\n",
       "  </tbody>\n",
       "</table>\n",
       "</div>"
      ],
      "text/plain": [
       "                         count      mean       std  min  25%  50%  75%   max\n",
       "Anos_com_o_mesmo_chefe  1470.0  4.123129  3.568136  0.0  2.0  3.0  7.0  17.0"
      ]
     },
     "execution_count": 45,
     "metadata": {},
     "output_type": "execute_result"
    }
   ],
   "source": [
    "df['Anos_com_o_mesmo_chefe'].describe().to_frame().T"
   ]
  },
  {
   "cell_type": "markdown",
   "metadata": {},
   "source": [
    "## Bivariada"
   ]
  },
  {
   "cell_type": "markdown",
   "metadata": {},
   "source": [
    "Vamos ver a relação das nossas caracteristicas resposta com a característica alvo"
   ]
  },
  {
   "cell_type": "markdown",
   "metadata": {},
   "source": [
    "### Variavel Qualitativa"
   ]
  },
  {
   "cell_type": "markdown",
   "metadata": {},
   "source": [
    "Para isso irei análisar as variaveis qualitativas primeiro, somente as que tiverem um maior correlação com a característica alvo."
   ]
  },
  {
   "cell_type": "code",
   "execution_count": 46,
   "metadata": {},
   "outputs": [],
   "source": [
    "def iv(target, variable, count):\n",
    "\n",
    "    pivot_table = pd.pivot_table(df, columns=target, index=variable, values=count, aggfunc=\"count\")\n",
    "    pivot_table['%Sim'] = pivot_table['Sim'].apply(lambda x: round(x/pivot_table['Sim'].sum()*100,2))\n",
    "    pivot_table['%Nao'] = pivot_table['Não'].apply(lambda x: round(x/pivot_table['Não'].sum()*100,2))\n",
    "    pivot_table['%FreqLinha'] = (pivot_table['Sim'] / (pivot_table['Não'] + pivot_table['Sim']) * 100).round(2)\n",
    "    pivot_table['WoE'] = (pivot_table['%Sim'] / pivot_table['%Nao'])\n",
    "    pivot_table['IV'] = ((pivot_table['%Sim']/100) - (pivot_table['%Nao']/100)) * np.log(pivot_table['WoE']).replace([np.inf, -np.inf], 0)\n",
    "    \n",
    "    return pivot_table['IV'].sum()"
   ]
  },
  {
   "cell_type": "code",
   "execution_count": 47,
   "metadata": {},
   "outputs": [
    {
     "data": {
      "text/html": [
       "<div>\n",
       "<style scoped>\n",
       "    .dataframe tbody tr th:only-of-type {\n",
       "        vertical-align: middle;\n",
       "    }\n",
       "\n",
       "    .dataframe tbody tr th {\n",
       "        vertical-align: top;\n",
       "    }\n",
       "\n",
       "    .dataframe thead th {\n",
       "        text-align: right;\n",
       "    }\n",
       "</style>\n",
       "<table border=\"1\" class=\"dataframe\">\n",
       "  <thead>\n",
       "    <tr style=\"text-align: right;\">\n",
       "      <th></th>\n",
       "      <th>Variavel</th>\n",
       "      <th>IV</th>\n",
       "    </tr>\n",
       "  </thead>\n",
       "  <tbody>\n",
       "    <tr>\n",
       "      <th>5</th>\n",
       "      <td>Faz_hora_extras?</td>\n",
       "      <td>0.400235</td>\n",
       "    </tr>\n",
       "    <tr>\n",
       "      <th>4</th>\n",
       "      <td>Estado_Civil</td>\n",
       "      <td>0.218845</td>\n",
       "    </tr>\n",
       "    <tr>\n",
       "      <th>0</th>\n",
       "      <td>Frequência de Viagens</td>\n",
       "      <td>0.120867</td>\n",
       "    </tr>\n",
       "    <tr>\n",
       "      <th>2</th>\n",
       "      <td>E-Sat</td>\n",
       "      <td>0.099945</td>\n",
       "    </tr>\n",
       "    <tr>\n",
       "      <th>6</th>\n",
       "      <td>Equilibrio_de_Vida</td>\n",
       "      <td>0.066978</td>\n",
       "    </tr>\n",
       "    <tr>\n",
       "      <th>1</th>\n",
       "      <td>Formação</td>\n",
       "      <td>0.016547</td>\n",
       "    </tr>\n",
       "    <tr>\n",
       "      <th>3</th>\n",
       "      <td>Gênero</td>\n",
       "      <td>0.006484</td>\n",
       "    </tr>\n",
       "  </tbody>\n",
       "</table>\n",
       "</div>"
      ],
      "text/plain": [
       "                Variavel        IV\n",
       "5       Faz_hora_extras?  0.400235\n",
       "4           Estado_Civil  0.218845\n",
       "0  Frequência de Viagens  0.120867\n",
       "2                  E-Sat  0.099945\n",
       "6     Equilibrio_de_Vida  0.066978\n",
       "1               Formação  0.016547\n",
       "3                 Gênero  0.006484"
      ]
     },
     "execution_count": 47,
     "metadata": {},
     "output_type": "execute_result"
    }
   ],
   "source": [
    "quali_col = df.select_dtypes(object, 'category').columns.drop('Funcionário_deixou_a_empresa')\n",
    "valor = []\n",
    "variavel = []\n",
    "\n",
    "for col in df[quali_col]:\n",
    "    iv_valor = iv('Funcionário_deixou_a_empresa', col, 'ID')\n",
    "    valor.append(iv_valor)\n",
    "    variavel.append(col)\n",
    "\n",
    "iv_quali_df = pd.DataFrame({\n",
    "    'Variavel': variavel,\n",
    "    'IV': valor\n",
    "})\n",
    "\n",
    "iv_quali_df.sort_values('IV', ascending=False)"
   ]
  },
  {
   "cell_type": "code",
   "execution_count": 48,
   "metadata": {},
   "outputs": [],
   "source": [
    "def iv_df(target, variable, count):\n",
    "\n",
    "    pivot_table = pd.pivot_table(df, columns=target, index=variable, values=count, aggfunc=\"count\")\n",
    "    pivot_table['%Sim'] = pivot_table['Sim'].apply(lambda x: round(x/pivot_table['Sim'].sum()*100,2))\n",
    "    pivot_table['%Nao'] = pivot_table['Não'].apply(lambda x: round(x/pivot_table['Não'].sum()*100,2))\n",
    "    pivot_table['%FreqLinha'] = (pivot_table['Sim'] / (pivot_table['Não'] + pivot_table['Sim']) * 100).round(2)\n",
    "    pivot_table['WoE'] = (pivot_table['%Sim'] / pivot_table['%Nao'])\n",
    "    pivot_table['IV'] = ((pivot_table['%Sim']/100) - (pivot_table['%Nao']/100)) * np.log(pivot_table['WoE']).replace([np.inf, -np.inf], 0)\n",
    "    \n",
    "    return pivot_table"
   ]
  },
  {
   "cell_type": "markdown",
   "metadata": {},
   "source": [
    "#### `Faz_hora_extras?`"
   ]
  },
  {
   "cell_type": "code",
   "execution_count": 49,
   "metadata": {},
   "outputs": [
    {
     "data": {
      "text/html": [
       "<div>\n",
       "<style scoped>\n",
       "    .dataframe tbody tr th:only-of-type {\n",
       "        vertical-align: middle;\n",
       "    }\n",
       "\n",
       "    .dataframe tbody tr th {\n",
       "        vertical-align: top;\n",
       "    }\n",
       "\n",
       "    .dataframe thead th {\n",
       "        text-align: right;\n",
       "    }\n",
       "</style>\n",
       "<table border=\"1\" class=\"dataframe\">\n",
       "  <thead>\n",
       "    <tr style=\"text-align: right;\">\n",
       "      <th>Funcionário_deixou_a_empresa</th>\n",
       "      <th>Não</th>\n",
       "      <th>Sim</th>\n",
       "      <th>%Sim</th>\n",
       "      <th>%Nao</th>\n",
       "      <th>%FreqLinha</th>\n",
       "      <th>WoE</th>\n",
       "      <th>IV</th>\n",
       "    </tr>\n",
       "    <tr>\n",
       "      <th>Faz_hora_extras?</th>\n",
       "      <th></th>\n",
       "      <th></th>\n",
       "      <th></th>\n",
       "      <th></th>\n",
       "      <th></th>\n",
       "      <th></th>\n",
       "      <th></th>\n",
       "    </tr>\n",
       "  </thead>\n",
       "  <tbody>\n",
       "    <tr>\n",
       "      <th>Não</th>\n",
       "      <td>944</td>\n",
       "      <td>110</td>\n",
       "      <td>46.41</td>\n",
       "      <td>76.56</td>\n",
       "      <td>10.44</td>\n",
       "      <td>0.606191</td>\n",
       "      <td>0.150919</td>\n",
       "    </tr>\n",
       "    <tr>\n",
       "      <th>Sim</th>\n",
       "      <td>289</td>\n",
       "      <td>127</td>\n",
       "      <td>53.59</td>\n",
       "      <td>23.44</td>\n",
       "      <td>30.53</td>\n",
       "      <td>2.286263</td>\n",
       "      <td>0.249316</td>\n",
       "    </tr>\n",
       "  </tbody>\n",
       "</table>\n",
       "</div>"
      ],
      "text/plain": [
       "Funcionário_deixou_a_empresa  Não  Sim   %Sim   %Nao  %FreqLinha       WoE  \\\n",
       "Faz_hora_extras?                                                             \n",
       "Não                           944  110  46.41  76.56       10.44  0.606191   \n",
       "Sim                           289  127  53.59  23.44       30.53  2.286263   \n",
       "\n",
       "Funcionário_deixou_a_empresa        IV  \n",
       "Faz_hora_extras?                        \n",
       "Não                           0.150919  \n",
       "Sim                           0.249316  "
      ]
     },
     "execution_count": 49,
     "metadata": {},
     "output_type": "execute_result"
    }
   ],
   "source": [
    "iv_df('Funcionário_deixou_a_empresa', 'Faz_hora_extras?', 'ID')"
   ]
  },
  {
   "cell_type": "markdown",
   "metadata": {},
   "source": [
    "O poder de separação da característica é considerada **forte**, ou seja, o hábito de fazer horas extras está correlacionado ao desligamento da empresa."
   ]
  },
  {
   "cell_type": "markdown",
   "metadata": {},
   "source": [
    "#### `Estado_Civil`"
   ]
  },
  {
   "cell_type": "code",
   "execution_count": 50,
   "metadata": {},
   "outputs": [
    {
     "data": {
      "text/html": [
       "<div>\n",
       "<style scoped>\n",
       "    .dataframe tbody tr th:only-of-type {\n",
       "        vertical-align: middle;\n",
       "    }\n",
       "\n",
       "    .dataframe tbody tr th {\n",
       "        vertical-align: top;\n",
       "    }\n",
       "\n",
       "    .dataframe thead th {\n",
       "        text-align: right;\n",
       "    }\n",
       "</style>\n",
       "<table border=\"1\" class=\"dataframe\">\n",
       "  <thead>\n",
       "    <tr style=\"text-align: right;\">\n",
       "      <th>Funcionário_deixou_a_empresa</th>\n",
       "      <th>Não</th>\n",
       "      <th>Sim</th>\n",
       "      <th>%Sim</th>\n",
       "      <th>%Nao</th>\n",
       "      <th>%FreqLinha</th>\n",
       "      <th>WoE</th>\n",
       "      <th>IV</th>\n",
       "    </tr>\n",
       "    <tr>\n",
       "      <th>Estado_Civil</th>\n",
       "      <th></th>\n",
       "      <th></th>\n",
       "      <th></th>\n",
       "      <th></th>\n",
       "      <th></th>\n",
       "      <th></th>\n",
       "      <th></th>\n",
       "    </tr>\n",
       "  </thead>\n",
       "  <tbody>\n",
       "    <tr>\n",
       "      <th>Casado</th>\n",
       "      <td>589</td>\n",
       "      <td>84</td>\n",
       "      <td>35.44</td>\n",
       "      <td>47.77</td>\n",
       "      <td>12.48</td>\n",
       "      <td>0.741888</td>\n",
       "      <td>0.036812</td>\n",
       "    </tr>\n",
       "    <tr>\n",
       "      <th>Divorciado</th>\n",
       "      <td>294</td>\n",
       "      <td>33</td>\n",
       "      <td>13.92</td>\n",
       "      <td>23.84</td>\n",
       "      <td>10.09</td>\n",
       "      <td>0.583893</td>\n",
       "      <td>0.053373</td>\n",
       "    </tr>\n",
       "    <tr>\n",
       "      <th>Solteiro</th>\n",
       "      <td>350</td>\n",
       "      <td>120</td>\n",
       "      <td>50.63</td>\n",
       "      <td>28.39</td>\n",
       "      <td>25.53</td>\n",
       "      <td>1.783374</td>\n",
       "      <td>0.128660</td>\n",
       "    </tr>\n",
       "  </tbody>\n",
       "</table>\n",
       "</div>"
      ],
      "text/plain": [
       "Funcionário_deixou_a_empresa  Não  Sim   %Sim   %Nao  %FreqLinha       WoE  \\\n",
       "Estado_Civil                                                                 \n",
       "Casado                        589   84  35.44  47.77       12.48  0.741888   \n",
       "Divorciado                    294   33  13.92  23.84       10.09  0.583893   \n",
       "Solteiro                      350  120  50.63  28.39       25.53  1.783374   \n",
       "\n",
       "Funcionário_deixou_a_empresa        IV  \n",
       "Estado_Civil                            \n",
       "Casado                        0.036812  \n",
       "Divorciado                    0.053373  \n",
       "Solteiro                      0.128660  "
      ]
     },
     "execution_count": 50,
     "metadata": {},
     "output_type": "execute_result"
    }
   ],
   "source": [
    "iv_df('Funcionário_deixou_a_empresa', 'Estado_Civil', 'ID')"
   ]
  },
  {
   "cell_type": "markdown",
   "metadata": {},
   "source": [
    "A característica `Estado_civil`, tem um poder de separação médio. Uma hipótese é de que os funcionários casados e divorciados tenham maiores responsabilidades financeiras, se arriscando menos em outras oportunidades."
   ]
  },
  {
   "cell_type": "markdown",
   "metadata": {},
   "source": [
    "### Variavel Quantitativa"
   ]
  },
  {
   "cell_type": "markdown",
   "metadata": {},
   "source": [
    "Para as variáveis quantitativas, devemos binarizar cada característica"
   ]
  },
  {
   "cell_type": "code",
   "execution_count": 51,
   "metadata": {},
   "outputs": [],
   "source": [
    "def iv_bin(target, variable, bins, count):\n",
    "\n",
    "    bin_variable = pd.cut(x=df[variable], bins=bins)\n",
    "    \n",
    "    pivot_table = pd.pivot_table(df, columns=target, index=bin_variable, values=count, aggfunc=\"count\")\n",
    "    pivot_table['%Sim'] = pivot_table['Sim'].apply(lambda x: round(x/pivot_table['Sim'].sum()*100,2))\n",
    "    pivot_table['%Nao'] = pivot_table['Não'].apply(lambda x: round(x/pivot_table['Não'].sum()*100,2))\n",
    "    pivot_table['%FreqLinha'] = (pivot_table['Sim'] / (pivot_table['Não'] + pivot_table['Sim']) * 100).round(2)\n",
    "    pivot_table['WoE'] = (pivot_table['%Sim'] / pivot_table['%Nao'])\n",
    "    pivot_table['IV'] = ((pivot_table['%Sim']/100) - (pivot_table['%Nao']/100)) * np.log(pivot_table['WoE']).replace([np.inf, -np.inf], 'Não')\n",
    "\n",
    "    return pivot_table"
   ]
  },
  {
   "cell_type": "markdown",
   "metadata": {},
   "source": [
    "Iremos fazer a relação de cada variável quantitativa e desenvolver insights sobre as que mais re correlacionam"
   ]
  },
  {
   "cell_type": "markdown",
   "metadata": {},
   "source": [
    "#### `Idade`"
   ]
  },
  {
   "cell_type": "code",
   "execution_count": 52,
   "metadata": {},
   "outputs": [
    {
     "name": "stderr",
     "output_type": "stream",
     "text": [
      "C:\\Users\\msant\\AppData\\Local\\Temp\\ipykernel_1272\\3055875841.py:5: FutureWarning: The default value of observed=False is deprecated and will change to observed=True in a future version of pandas. Specify observed=False to silence this warning and retain the current behavior\n",
      "  pivot_table = pd.pivot_table(df, columns=target, index=bin_variable, values=count, aggfunc=\"count\")\n"
     ]
    },
    {
     "data": {
      "text/html": [
       "<div>\n",
       "<style scoped>\n",
       "    .dataframe tbody tr th:only-of-type {\n",
       "        vertical-align: middle;\n",
       "    }\n",
       "\n",
       "    .dataframe tbody tr th {\n",
       "        vertical-align: top;\n",
       "    }\n",
       "\n",
       "    .dataframe thead th {\n",
       "        text-align: right;\n",
       "    }\n",
       "</style>\n",
       "<table border=\"1\" class=\"dataframe\">\n",
       "  <thead>\n",
       "    <tr style=\"text-align: right;\">\n",
       "      <th>Funcionário_deixou_a_empresa</th>\n",
       "      <th>Não</th>\n",
       "      <th>Sim</th>\n",
       "      <th>%Sim</th>\n",
       "      <th>%Nao</th>\n",
       "      <th>%FreqLinha</th>\n",
       "      <th>WoE</th>\n",
       "      <th>IV</th>\n",
       "    </tr>\n",
       "    <tr>\n",
       "      <th>Idade</th>\n",
       "      <th></th>\n",
       "      <th></th>\n",
       "      <th></th>\n",
       "      <th></th>\n",
       "      <th></th>\n",
       "      <th></th>\n",
       "      <th></th>\n",
       "    </tr>\n",
       "  </thead>\n",
       "  <tbody>\n",
       "    <tr>\n",
       "      <th>(17.958, 26.4]</th>\n",
       "      <td>106</td>\n",
       "      <td>56</td>\n",
       "      <td>23.63</td>\n",
       "      <td>8.60</td>\n",
       "      <td>34.57</td>\n",
       "      <td>2.747674</td>\n",
       "      <td>0.151916</td>\n",
       "    </tr>\n",
       "    <tr>\n",
       "      <th>(26.4, 34.8]</th>\n",
       "      <td>395</td>\n",
       "      <td>94</td>\n",
       "      <td>39.66</td>\n",
       "      <td>32.04</td>\n",
       "      <td>19.22</td>\n",
       "      <td>1.237828</td>\n",
       "      <td>0.016258</td>\n",
       "    </tr>\n",
       "    <tr>\n",
       "      <th>(34.8, 43.2]</th>\n",
       "      <td>427</td>\n",
       "      <td>45</td>\n",
       "      <td>18.99</td>\n",
       "      <td>34.63</td>\n",
       "      <td>9.53</td>\n",
       "      <td>0.548368</td>\n",
       "      <td>0.093966</td>\n",
       "    </tr>\n",
       "    <tr>\n",
       "      <th>(43.2, 51.6]</th>\n",
       "      <td>197</td>\n",
       "      <td>26</td>\n",
       "      <td>10.97</td>\n",
       "      <td>15.98</td>\n",
       "      <td>11.66</td>\n",
       "      <td>0.686483</td>\n",
       "      <td>0.018846</td>\n",
       "    </tr>\n",
       "    <tr>\n",
       "      <th>(51.6, 60.0]</th>\n",
       "      <td>108</td>\n",
       "      <td>16</td>\n",
       "      <td>6.75</td>\n",
       "      <td>8.76</td>\n",
       "      <td>12.90</td>\n",
       "      <td>0.770548</td>\n",
       "      <td>0.005239</td>\n",
       "    </tr>\n",
       "  </tbody>\n",
       "</table>\n",
       "</div>"
      ],
      "text/plain": [
       "Funcionário_deixou_a_empresa  Não  Sim   %Sim   %Nao  %FreqLinha       WoE  \\\n",
       "Idade                                                                        \n",
       "(17.958, 26.4]                106   56  23.63   8.60       34.57  2.747674   \n",
       "(26.4, 34.8]                  395   94  39.66  32.04       19.22  1.237828   \n",
       "(34.8, 43.2]                  427   45  18.99  34.63        9.53  0.548368   \n",
       "(43.2, 51.6]                  197   26  10.97  15.98       11.66  0.686483   \n",
       "(51.6, 60.0]                  108   16   6.75   8.76       12.90  0.770548   \n",
       "\n",
       "Funcionário_deixou_a_empresa        IV  \n",
       "Idade                                   \n",
       "(17.958, 26.4]                0.151916  \n",
       "(26.4, 34.8]                  0.016258  \n",
       "(34.8, 43.2]                  0.093966  \n",
       "(43.2, 51.6]                  0.018846  \n",
       "(51.6, 60.0]                  0.005239  "
      ]
     },
     "execution_count": 52,
     "metadata": {},
     "output_type": "execute_result"
    }
   ],
   "source": [
    "iv_idade = iv_bin('Funcionário_deixou_a_empresa', 'Idade', 5, 'ID')\n",
    "iv_idade"
   ]
  },
  {
   "cell_type": "code",
   "execution_count": 53,
   "metadata": {},
   "outputs": [
    {
     "data": {
      "text/plain": [
       "0.28622611850915214"
      ]
     },
     "execution_count": 53,
     "metadata": {},
     "output_type": "execute_result"
    }
   ],
   "source": [
    "iv_idade['IV'].sum()"
   ]
  },
  {
   "cell_type": "markdown",
   "metadata": {},
   "source": [
    "Poder de separação médio.\n",
    "\n",
    "Funcionários mais jovem tem uma taxa maior de turnover. Talvez seja necessario uma apresentação de um plano de carreira para reter os mais jovens"
   ]
  },
  {
   "cell_type": "code",
   "execution_count": 54,
   "metadata": {},
   "outputs": [],
   "source": [
    "valor.append(iv_idade['IV'].sum())\n",
    "variavel.append('Idade')"
   ]
  },
  {
   "cell_type": "markdown",
   "metadata": {},
   "source": [
    "#### `Distância_do_trabalho`"
   ]
  },
  {
   "cell_type": "code",
   "execution_count": 55,
   "metadata": {},
   "outputs": [
    {
     "name": "stderr",
     "output_type": "stream",
     "text": [
      "C:\\Users\\msant\\AppData\\Local\\Temp\\ipykernel_1272\\3055875841.py:5: FutureWarning: The default value of observed=False is deprecated and will change to observed=True in a future version of pandas. Specify observed=False to silence this warning and retain the current behavior\n",
      "  pivot_table = pd.pivot_table(df, columns=target, index=bin_variable, values=count, aggfunc=\"count\")\n"
     ]
    },
    {
     "data": {
      "text/html": [
       "<div>\n",
       "<style scoped>\n",
       "    .dataframe tbody tr th:only-of-type {\n",
       "        vertical-align: middle;\n",
       "    }\n",
       "\n",
       "    .dataframe tbody tr th {\n",
       "        vertical-align: top;\n",
       "    }\n",
       "\n",
       "    .dataframe thead th {\n",
       "        text-align: right;\n",
       "    }\n",
       "</style>\n",
       "<table border=\"1\" class=\"dataframe\">\n",
       "  <thead>\n",
       "    <tr style=\"text-align: right;\">\n",
       "      <th>Funcionário_deixou_a_empresa</th>\n",
       "      <th>Não</th>\n",
       "      <th>Sim</th>\n",
       "      <th>%Sim</th>\n",
       "      <th>%Nao</th>\n",
       "      <th>%FreqLinha</th>\n",
       "      <th>WoE</th>\n",
       "      <th>IV</th>\n",
       "    </tr>\n",
       "    <tr>\n",
       "      <th>Distância_do_trabalho</th>\n",
       "      <th></th>\n",
       "      <th></th>\n",
       "      <th></th>\n",
       "      <th></th>\n",
       "      <th></th>\n",
       "      <th></th>\n",
       "      <th></th>\n",
       "    </tr>\n",
       "  </thead>\n",
       "  <tbody>\n",
       "    <tr>\n",
       "      <th>(0.972, 6.6]</th>\n",
       "      <td>597</td>\n",
       "      <td>94</td>\n",
       "      <td>39.66</td>\n",
       "      <td>48.42</td>\n",
       "      <td>13.60</td>\n",
       "      <td>0.819083</td>\n",
       "      <td>0.017482</td>\n",
       "    </tr>\n",
       "    <tr>\n",
       "      <th>(6.6, 12.2]</th>\n",
       "      <td>324</td>\n",
       "      <td>60</td>\n",
       "      <td>25.32</td>\n",
       "      <td>26.28</td>\n",
       "      <td>15.62</td>\n",
       "      <td>0.963470</td>\n",
       "      <td>0.000357</td>\n",
       "    </tr>\n",
       "    <tr>\n",
       "      <th>(12.2, 17.8]</th>\n",
       "      <td>91</td>\n",
       "      <td>27</td>\n",
       "      <td>11.39</td>\n",
       "      <td>7.38</td>\n",
       "      <td>22.88</td>\n",
       "      <td>1.543360</td>\n",
       "      <td>0.017402</td>\n",
       "    </tr>\n",
       "    <tr>\n",
       "      <th>(17.8, 23.4]</th>\n",
       "      <td>112</td>\n",
       "      <td>25</td>\n",
       "      <td>10.55</td>\n",
       "      <td>9.08</td>\n",
       "      <td>18.25</td>\n",
       "      <td>1.161894</td>\n",
       "      <td>0.002206</td>\n",
       "    </tr>\n",
       "    <tr>\n",
       "      <th>(23.4, 29.0]</th>\n",
       "      <td>109</td>\n",
       "      <td>31</td>\n",
       "      <td>13.08</td>\n",
       "      <td>8.84</td>\n",
       "      <td>22.14</td>\n",
       "      <td>1.479638</td>\n",
       "      <td>0.016612</td>\n",
       "    </tr>\n",
       "  </tbody>\n",
       "</table>\n",
       "</div>"
      ],
      "text/plain": [
       "Funcionário_deixou_a_empresa  Não  Sim   %Sim   %Nao  %FreqLinha       WoE  \\\n",
       "Distância_do_trabalho                                                        \n",
       "(0.972, 6.6]                  597   94  39.66  48.42       13.60  0.819083   \n",
       "(6.6, 12.2]                   324   60  25.32  26.28       15.62  0.963470   \n",
       "(12.2, 17.8]                   91   27  11.39   7.38       22.88  1.543360   \n",
       "(17.8, 23.4]                  112   25  10.55   9.08       18.25  1.161894   \n",
       "(23.4, 29.0]                  109   31  13.08   8.84       22.14  1.479638   \n",
       "\n",
       "Funcionário_deixou_a_empresa        IV  \n",
       "Distância_do_trabalho                   \n",
       "(0.972, 6.6]                  0.017482  \n",
       "(6.6, 12.2]                   0.000357  \n",
       "(12.2, 17.8]                  0.017402  \n",
       "(17.8, 23.4]                  0.002206  \n",
       "(23.4, 29.0]                  0.016612  "
      ]
     },
     "execution_count": 55,
     "metadata": {},
     "output_type": "execute_result"
    }
   ],
   "source": [
    "iv_distancia = iv_bin('Funcionário_deixou_a_empresa', 'Distância_do_trabalho', 5, 'ID')\n",
    "iv_distancia"
   ]
  },
  {
   "cell_type": "code",
   "execution_count": 56,
   "metadata": {},
   "outputs": [
    {
     "data": {
      "text/plain": [
       "0.054059421473192315"
      ]
     },
     "execution_count": 56,
     "metadata": {},
     "output_type": "execute_result"
    }
   ],
   "source": [
    "iv_distancia['IV'].sum()"
   ]
  },
  {
   "cell_type": "markdown",
   "metadata": {},
   "source": [
    "Poder de separação muito fraco"
   ]
  },
  {
   "cell_type": "code",
   "execution_count": 57,
   "metadata": {},
   "outputs": [],
   "source": [
    "valor.append(iv_distancia['IV'].sum())\n",
    "variavel.append('Distancia')"
   ]
  },
  {
   "cell_type": "markdown",
   "metadata": {},
   "source": [
    "#### ``Salário``"
   ]
  },
  {
   "cell_type": "code",
   "execution_count": 58,
   "metadata": {},
   "outputs": [
    {
     "name": "stderr",
     "output_type": "stream",
     "text": [
      "C:\\Users\\msant\\AppData\\Local\\Temp\\ipykernel_1272\\3055875841.py:5: FutureWarning: The default value of observed=False is deprecated and will change to observed=True in a future version of pandas. Specify observed=False to silence this warning and retain the current behavior\n",
      "  pivot_table = pd.pivot_table(df, columns=target, index=bin_variable, values=count, aggfunc=\"count\")\n"
     ]
    },
    {
     "data": {
      "text/html": [
       "<div>\n",
       "<style scoped>\n",
       "    .dataframe tbody tr th:only-of-type {\n",
       "        vertical-align: middle;\n",
       "    }\n",
       "\n",
       "    .dataframe tbody tr th {\n",
       "        vertical-align: top;\n",
       "    }\n",
       "\n",
       "    .dataframe thead th {\n",
       "        text-align: right;\n",
       "    }\n",
       "</style>\n",
       "<table border=\"1\" class=\"dataframe\">\n",
       "  <thead>\n",
       "    <tr style=\"text-align: right;\">\n",
       "      <th>Funcionário_deixou_a_empresa</th>\n",
       "      <th>Não</th>\n",
       "      <th>Sim</th>\n",
       "      <th>%Sim</th>\n",
       "      <th>%Nao</th>\n",
       "      <th>%FreqLinha</th>\n",
       "      <th>WoE</th>\n",
       "      <th>IV</th>\n",
       "    </tr>\n",
       "    <tr>\n",
       "      <th>Salário</th>\n",
       "      <th></th>\n",
       "      <th></th>\n",
       "      <th></th>\n",
       "      <th></th>\n",
       "      <th></th>\n",
       "      <th></th>\n",
       "      <th></th>\n",
       "    </tr>\n",
       "  </thead>\n",
       "  <tbody>\n",
       "    <tr>\n",
       "      <th>(990.01, 4174.0]</th>\n",
       "      <td>437</td>\n",
       "      <td>140</td>\n",
       "      <td>59.07</td>\n",
       "      <td>35.44</td>\n",
       "      <td>24.26</td>\n",
       "      <td>1.666761</td>\n",
       "      <td>0.120721</td>\n",
       "    </tr>\n",
       "    <tr>\n",
       "      <th>(4174.0, 7339.0]</th>\n",
       "      <td>419</td>\n",
       "      <td>52</td>\n",
       "      <td>21.94</td>\n",
       "      <td>33.98</td>\n",
       "      <td>11.04</td>\n",
       "      <td>0.645674</td>\n",
       "      <td>0.052670</td>\n",
       "    </tr>\n",
       "    <tr>\n",
       "      <th>(7339.0, 10504.0]</th>\n",
       "      <td>145</td>\n",
       "      <td>30</td>\n",
       "      <td>12.66</td>\n",
       "      <td>11.76</td>\n",
       "      <td>17.14</td>\n",
       "      <td>1.076531</td>\n",
       "      <td>0.000664</td>\n",
       "    </tr>\n",
       "    <tr>\n",
       "      <th>(10504.0, 13669.0]</th>\n",
       "      <td>84</td>\n",
       "      <td>8</td>\n",
       "      <td>3.38</td>\n",
       "      <td>6.81</td>\n",
       "      <td>8.70</td>\n",
       "      <td>0.496329</td>\n",
       "      <td>0.024028</td>\n",
       "    </tr>\n",
       "    <tr>\n",
       "      <th>(13669.0, 16834.0]</th>\n",
       "      <td>50</td>\n",
       "      <td>2</td>\n",
       "      <td>0.84</td>\n",
       "      <td>4.06</td>\n",
       "      <td>3.85</td>\n",
       "      <td>0.206897</td>\n",
       "      <td>0.050732</td>\n",
       "    </tr>\n",
       "    <tr>\n",
       "      <th>(16834.0, 19999.0]</th>\n",
       "      <td>98</td>\n",
       "      <td>5</td>\n",
       "      <td>2.11</td>\n",
       "      <td>7.95</td>\n",
       "      <td>4.85</td>\n",
       "      <td>0.265409</td>\n",
       "      <td>0.077467</td>\n",
       "    </tr>\n",
       "  </tbody>\n",
       "</table>\n",
       "</div>"
      ],
      "text/plain": [
       "Funcionário_deixou_a_empresa  Não  Sim   %Sim   %Nao  %FreqLinha       WoE  \\\n",
       "Salário                                                                      \n",
       "(990.01, 4174.0]              437  140  59.07  35.44       24.26  1.666761   \n",
       "(4174.0, 7339.0]              419   52  21.94  33.98       11.04  0.645674   \n",
       "(7339.0, 10504.0]             145   30  12.66  11.76       17.14  1.076531   \n",
       "(10504.0, 13669.0]             84    8   3.38   6.81        8.70  0.496329   \n",
       "(13669.0, 16834.0]             50    2   0.84   4.06        3.85  0.206897   \n",
       "(16834.0, 19999.0]             98    5   2.11   7.95        4.85  0.265409   \n",
       "\n",
       "Funcionário_deixou_a_empresa        IV  \n",
       "Salário                                 \n",
       "(990.01, 4174.0]              0.120721  \n",
       "(4174.0, 7339.0]              0.052670  \n",
       "(7339.0, 10504.0]             0.000664  \n",
       "(10504.0, 13669.0]            0.024028  \n",
       "(13669.0, 16834.0]            0.050732  \n",
       "(16834.0, 19999.0]            0.077467  "
      ]
     },
     "execution_count": 58,
     "metadata": {},
     "output_type": "execute_result"
    }
   ],
   "source": [
    "iv_salario = iv_bin('Funcionário_deixou_a_empresa', 'Salário', 6, 'ID')\n",
    "iv_salario"
   ]
  },
  {
   "cell_type": "code",
   "execution_count": 59,
   "metadata": {},
   "outputs": [
    {
     "data": {
      "text/plain": [
       "0.32628203283755425"
      ]
     },
     "execution_count": 59,
     "metadata": {},
     "output_type": "execute_result"
    }
   ],
   "source": [
    "iv_salario['IV'].sum()"
   ]
  },
  {
   "cell_type": "markdown",
   "metadata": {},
   "source": [
    "Poder de separação forte.\n",
    "\n",
    "Podemos observar uma alta taxa de turnover entre os funcionarios que possuem o salário mais perto do piso. "
   ]
  },
  {
   "cell_type": "code",
   "execution_count": 60,
   "metadata": {},
   "outputs": [],
   "source": [
    "valor.append(iv_salario['IV'].sum())\n",
    "variavel.append('Salário')"
   ]
  },
  {
   "cell_type": "markdown",
   "metadata": {},
   "source": [
    "#### `Qte_Empresas_Trabalhadas`"
   ]
  },
  {
   "cell_type": "code",
   "execution_count": 61,
   "metadata": {},
   "outputs": [
    {
     "name": "stderr",
     "output_type": "stream",
     "text": [
      "C:\\Users\\msant\\AppData\\Local\\Temp\\ipykernel_1272\\3055875841.py:5: FutureWarning: The default value of observed=False is deprecated and will change to observed=True in a future version of pandas. Specify observed=False to silence this warning and retain the current behavior\n",
      "  pivot_table = pd.pivot_table(df, columns=target, index=bin_variable, values=count, aggfunc=\"count\")\n"
     ]
    },
    {
     "data": {
      "text/html": [
       "<div>\n",
       "<style scoped>\n",
       "    .dataframe tbody tr th:only-of-type {\n",
       "        vertical-align: middle;\n",
       "    }\n",
       "\n",
       "    .dataframe tbody tr th {\n",
       "        vertical-align: top;\n",
       "    }\n",
       "\n",
       "    .dataframe thead th {\n",
       "        text-align: right;\n",
       "    }\n",
       "</style>\n",
       "<table border=\"1\" class=\"dataframe\">\n",
       "  <thead>\n",
       "    <tr style=\"text-align: right;\">\n",
       "      <th>Funcionário_deixou_a_empresa</th>\n",
       "      <th>Não</th>\n",
       "      <th>Sim</th>\n",
       "      <th>%Sim</th>\n",
       "      <th>%Nao</th>\n",
       "      <th>%FreqLinha</th>\n",
       "      <th>WoE</th>\n",
       "      <th>IV</th>\n",
       "    </tr>\n",
       "    <tr>\n",
       "      <th>Qte_Empresas_Trabalhadas</th>\n",
       "      <th></th>\n",
       "      <th></th>\n",
       "      <th></th>\n",
       "      <th></th>\n",
       "      <th></th>\n",
       "      <th></th>\n",
       "      <th></th>\n",
       "    </tr>\n",
       "  </thead>\n",
       "  <tbody>\n",
       "    <tr>\n",
       "      <th>(-0.009, 0.9]</th>\n",
       "      <td>174</td>\n",
       "      <td>23</td>\n",
       "      <td>9.70</td>\n",
       "      <td>14.11</td>\n",
       "      <td>11.68</td>\n",
       "      <td>0.687456</td>\n",
       "      <td>0.016527</td>\n",
       "    </tr>\n",
       "    <tr>\n",
       "      <th>(0.9, 1.8]</th>\n",
       "      <td>423</td>\n",
       "      <td>98</td>\n",
       "      <td>41.35</td>\n",
       "      <td>34.31</td>\n",
       "      <td>18.81</td>\n",
       "      <td>1.205188</td>\n",
       "      <td>0.013139</td>\n",
       "    </tr>\n",
       "    <tr>\n",
       "      <th>(1.8, 2.7]</th>\n",
       "      <td>130</td>\n",
       "      <td>16</td>\n",
       "      <td>6.75</td>\n",
       "      <td>10.54</td>\n",
       "      <td>10.96</td>\n",
       "      <td>0.640417</td>\n",
       "      <td>0.016890</td>\n",
       "    </tr>\n",
       "    <tr>\n",
       "      <th>(2.7, 3.6]</th>\n",
       "      <td>143</td>\n",
       "      <td>16</td>\n",
       "      <td>6.75</td>\n",
       "      <td>11.60</td>\n",
       "      <td>10.06</td>\n",
       "      <td>0.581897</td>\n",
       "      <td>0.026261</td>\n",
       "    </tr>\n",
       "    <tr>\n",
       "      <th>(3.6, 4.5]</th>\n",
       "      <td>122</td>\n",
       "      <td>17</td>\n",
       "      <td>7.17</td>\n",
       "      <td>9.89</td>\n",
       "      <td>12.23</td>\n",
       "      <td>0.724975</td>\n",
       "      <td>0.008748</td>\n",
       "    </tr>\n",
       "    <tr>\n",
       "      <th>(4.5, 5.4]</th>\n",
       "      <td>47</td>\n",
       "      <td>16</td>\n",
       "      <td>6.75</td>\n",
       "      <td>3.81</td>\n",
       "      <td>25.40</td>\n",
       "      <td>1.771654</td>\n",
       "      <td>0.016814</td>\n",
       "    </tr>\n",
       "    <tr>\n",
       "      <th>(5.4, 6.3]</th>\n",
       "      <td>54</td>\n",
       "      <td>16</td>\n",
       "      <td>6.75</td>\n",
       "      <td>4.38</td>\n",
       "      <td>22.86</td>\n",
       "      <td>1.541096</td>\n",
       "      <td>0.010250</td>\n",
       "    </tr>\n",
       "    <tr>\n",
       "      <th>(6.3, 7.2]</th>\n",
       "      <td>57</td>\n",
       "      <td>17</td>\n",
       "      <td>7.17</td>\n",
       "      <td>4.62</td>\n",
       "      <td>22.97</td>\n",
       "      <td>1.551948</td>\n",
       "      <td>0.011208</td>\n",
       "    </tr>\n",
       "    <tr>\n",
       "      <th>(7.2, 8.1]</th>\n",
       "      <td>43</td>\n",
       "      <td>6</td>\n",
       "      <td>2.53</td>\n",
       "      <td>3.49</td>\n",
       "      <td>12.24</td>\n",
       "      <td>0.724928</td>\n",
       "      <td>0.003088</td>\n",
       "    </tr>\n",
       "    <tr>\n",
       "      <th>(8.1, 9.0]</th>\n",
       "      <td>40</td>\n",
       "      <td>12</td>\n",
       "      <td>5.06</td>\n",
       "      <td>3.24</td>\n",
       "      <td>23.08</td>\n",
       "      <td>1.561728</td>\n",
       "      <td>0.008113</td>\n",
       "    </tr>\n",
       "  </tbody>\n",
       "</table>\n",
       "</div>"
      ],
      "text/plain": [
       "Funcionário_deixou_a_empresa  Não  Sim   %Sim   %Nao  %FreqLinha       WoE  \\\n",
       "Qte_Empresas_Trabalhadas                                                     \n",
       "(-0.009, 0.9]                 174   23   9.70  14.11       11.68  0.687456   \n",
       "(0.9, 1.8]                    423   98  41.35  34.31       18.81  1.205188   \n",
       "(1.8, 2.7]                    130   16   6.75  10.54       10.96  0.640417   \n",
       "(2.7, 3.6]                    143   16   6.75  11.60       10.06  0.581897   \n",
       "(3.6, 4.5]                    122   17   7.17   9.89       12.23  0.724975   \n",
       "(4.5, 5.4]                     47   16   6.75   3.81       25.40  1.771654   \n",
       "(5.4, 6.3]                     54   16   6.75   4.38       22.86  1.541096   \n",
       "(6.3, 7.2]                     57   17   7.17   4.62       22.97  1.551948   \n",
       "(7.2, 8.1]                     43    6   2.53   3.49       12.24  0.724928   \n",
       "(8.1, 9.0]                     40   12   5.06   3.24       23.08  1.561728   \n",
       "\n",
       "Funcionário_deixou_a_empresa        IV  \n",
       "Qte_Empresas_Trabalhadas                \n",
       "(-0.009, 0.9]                 0.016527  \n",
       "(0.9, 1.8]                    0.013139  \n",
       "(1.8, 2.7]                    0.016890  \n",
       "(2.7, 3.6]                    0.026261  \n",
       "(3.6, 4.5]                    0.008748  \n",
       "(4.5, 5.4]                    0.016814  \n",
       "(5.4, 6.3]                    0.010250  \n",
       "(6.3, 7.2]                    0.011208  \n",
       "(7.2, 8.1]                    0.003088  \n",
       "(8.1, 9.0]                    0.008113  "
      ]
     },
     "execution_count": 61,
     "metadata": {},
     "output_type": "execute_result"
    }
   ],
   "source": [
    "iv_qte_empresas = iv_bin('Funcionário_deixou_a_empresa', 'Qte_Empresas_Trabalhadas', 10, 'ID')\n",
    "iv_qte_empresas"
   ]
  },
  {
   "cell_type": "code",
   "execution_count": 62,
   "metadata": {},
   "outputs": [
    {
     "data": {
      "text/plain": [
       "0.13103796299607828"
      ]
     },
     "execution_count": 62,
     "metadata": {},
     "output_type": "execute_result"
    }
   ],
   "source": [
    "iv_qte_empresas['IV'].sum()"
   ]
  },
  {
   "cell_type": "markdown",
   "metadata": {},
   "source": [
    "Poder de separação fraco"
   ]
  },
  {
   "cell_type": "code",
   "execution_count": 63,
   "metadata": {},
   "outputs": [],
   "source": [
    "valor.append(iv_qte_empresas['IV'].sum())\n",
    "variavel.append('Qte_Empresas_Trabalhadas')"
   ]
  },
  {
   "cell_type": "markdown",
   "metadata": {},
   "source": [
    "#### `Perc_de_aumento`"
   ]
  },
  {
   "cell_type": "code",
   "execution_count": 64,
   "metadata": {},
   "outputs": [
    {
     "name": "stderr",
     "output_type": "stream",
     "text": [
      "C:\\Users\\msant\\AppData\\Local\\Temp\\ipykernel_1272\\3055875841.py:5: FutureWarning: The default value of observed=False is deprecated and will change to observed=True in a future version of pandas. Specify observed=False to silence this warning and retain the current behavior\n",
      "  pivot_table = pd.pivot_table(df, columns=target, index=bin_variable, values=count, aggfunc=\"count\")\n"
     ]
    },
    {
     "data": {
      "text/html": [
       "<div>\n",
       "<style scoped>\n",
       "    .dataframe tbody tr th:only-of-type {\n",
       "        vertical-align: middle;\n",
       "    }\n",
       "\n",
       "    .dataframe tbody tr th {\n",
       "        vertical-align: top;\n",
       "    }\n",
       "\n",
       "    .dataframe thead th {\n",
       "        text-align: right;\n",
       "    }\n",
       "</style>\n",
       "<table border=\"1\" class=\"dataframe\">\n",
       "  <thead>\n",
       "    <tr style=\"text-align: right;\">\n",
       "      <th>Funcionário_deixou_a_empresa</th>\n",
       "      <th>Não</th>\n",
       "      <th>Sim</th>\n",
       "      <th>%Sim</th>\n",
       "      <th>%Nao</th>\n",
       "      <th>%FreqLinha</th>\n",
       "      <th>WoE</th>\n",
       "      <th>IV</th>\n",
       "    </tr>\n",
       "    <tr>\n",
       "      <th>Perc_de_aumento</th>\n",
       "      <th></th>\n",
       "      <th></th>\n",
       "      <th></th>\n",
       "      <th></th>\n",
       "      <th></th>\n",
       "      <th></th>\n",
       "      <th></th>\n",
       "    </tr>\n",
       "  </thead>\n",
       "  <tbody>\n",
       "    <tr>\n",
       "      <th>(10.986, 12.4]</th>\n",
       "      <td>334</td>\n",
       "      <td>74</td>\n",
       "      <td>31.22</td>\n",
       "      <td>27.09</td>\n",
       "      <td>18.14</td>\n",
       "      <td>1.152455</td>\n",
       "      <td>0.005860</td>\n",
       "    </tr>\n",
       "    <tr>\n",
       "      <th>(12.4, 13.8]</th>\n",
       "      <td>175</td>\n",
       "      <td>34</td>\n",
       "      <td>14.35</td>\n",
       "      <td>14.19</td>\n",
       "      <td>16.27</td>\n",
       "      <td>1.011276</td>\n",
       "      <td>0.000018</td>\n",
       "    </tr>\n",
       "    <tr>\n",
       "      <th>(13.8, 15.2]</th>\n",
       "      <td>260</td>\n",
       "      <td>42</td>\n",
       "      <td>17.72</td>\n",
       "      <td>21.09</td>\n",
       "      <td>13.91</td>\n",
       "      <td>0.840209</td>\n",
       "      <td>0.005867</td>\n",
       "    </tr>\n",
       "    <tr>\n",
       "      <th>(15.2, 16.6]</th>\n",
       "      <td>64</td>\n",
       "      <td>14</td>\n",
       "      <td>5.91</td>\n",
       "      <td>5.19</td>\n",
       "      <td>17.95</td>\n",
       "      <td>1.138728</td>\n",
       "      <td>0.000935</td>\n",
       "    </tr>\n",
       "    <tr>\n",
       "      <th>(16.6, 18.0]</th>\n",
       "      <td>144</td>\n",
       "      <td>27</td>\n",
       "      <td>11.39</td>\n",
       "      <td>11.68</td>\n",
       "      <td>15.79</td>\n",
       "      <td>0.975171</td>\n",
       "      <td>0.000073</td>\n",
       "    </tr>\n",
       "    <tr>\n",
       "      <th>(18.0, 19.4]</th>\n",
       "      <td>67</td>\n",
       "      <td>9</td>\n",
       "      <td>3.80</td>\n",
       "      <td>5.43</td>\n",
       "      <td>11.84</td>\n",
       "      <td>0.699816</td>\n",
       "      <td>0.005818</td>\n",
       "    </tr>\n",
       "    <tr>\n",
       "      <th>(19.4, 20.8]</th>\n",
       "      <td>48</td>\n",
       "      <td>7</td>\n",
       "      <td>2.95</td>\n",
       "      <td>3.89</td>\n",
       "      <td>12.73</td>\n",
       "      <td>0.758355</td>\n",
       "      <td>0.002600</td>\n",
       "    </tr>\n",
       "    <tr>\n",
       "      <th>(20.8, 22.2]</th>\n",
       "      <td>87</td>\n",
       "      <td>17</td>\n",
       "      <td>7.17</td>\n",
       "      <td>7.06</td>\n",
       "      <td>16.35</td>\n",
       "      <td>1.015581</td>\n",
       "      <td>0.000017</td>\n",
       "    </tr>\n",
       "    <tr>\n",
       "      <th>(22.2, 23.6]</th>\n",
       "      <td>22</td>\n",
       "      <td>6</td>\n",
       "      <td>2.53</td>\n",
       "      <td>1.78</td>\n",
       "      <td>21.43</td>\n",
       "      <td>1.421348</td>\n",
       "      <td>0.002637</td>\n",
       "    </tr>\n",
       "    <tr>\n",
       "      <th>(23.6, 25.0]</th>\n",
       "      <td>32</td>\n",
       "      <td>7</td>\n",
       "      <td>2.95</td>\n",
       "      <td>2.60</td>\n",
       "      <td>17.95</td>\n",
       "      <td>1.134615</td>\n",
       "      <td>0.000442</td>\n",
       "    </tr>\n",
       "  </tbody>\n",
       "</table>\n",
       "</div>"
      ],
      "text/plain": [
       "Funcionário_deixou_a_empresa  Não  Sim   %Sim   %Nao  %FreqLinha       WoE  \\\n",
       "Perc_de_aumento                                                              \n",
       "(10.986, 12.4]                334   74  31.22  27.09       18.14  1.152455   \n",
       "(12.4, 13.8]                  175   34  14.35  14.19       16.27  1.011276   \n",
       "(13.8, 15.2]                  260   42  17.72  21.09       13.91  0.840209   \n",
       "(15.2, 16.6]                   64   14   5.91   5.19       17.95  1.138728   \n",
       "(16.6, 18.0]                  144   27  11.39  11.68       15.79  0.975171   \n",
       "(18.0, 19.4]                   67    9   3.80   5.43       11.84  0.699816   \n",
       "(19.4, 20.8]                   48    7   2.95   3.89       12.73  0.758355   \n",
       "(20.8, 22.2]                   87   17   7.17   7.06       16.35  1.015581   \n",
       "(22.2, 23.6]                   22    6   2.53   1.78       21.43  1.421348   \n",
       "(23.6, 25.0]                   32    7   2.95   2.60       17.95  1.134615   \n",
       "\n",
       "Funcionário_deixou_a_empresa        IV  \n",
       "Perc_de_aumento                         \n",
       "(10.986, 12.4]                0.005860  \n",
       "(12.4, 13.8]                  0.000018  \n",
       "(13.8, 15.2]                  0.005867  \n",
       "(15.2, 16.6]                  0.000935  \n",
       "(16.6, 18.0]                  0.000073  \n",
       "(18.0, 19.4]                  0.005818  \n",
       "(19.4, 20.8]                  0.002600  \n",
       "(20.8, 22.2]                  0.000017  \n",
       "(22.2, 23.6]                  0.002637  \n",
       "(23.6, 25.0]                  0.000442  "
      ]
     },
     "execution_count": 64,
     "metadata": {},
     "output_type": "execute_result"
    }
   ],
   "source": [
    "iv_perc_aumento = iv_bin('Funcionário_deixou_a_empresa', 'Perc_de_aumento', 10, 'ID')\n",
    "iv_perc_aumento"
   ]
  },
  {
   "cell_type": "code",
   "execution_count": 65,
   "metadata": {},
   "outputs": [
    {
     "data": {
      "text/plain": [
       "0.02426803994250125"
      ]
     },
     "execution_count": 65,
     "metadata": {},
     "output_type": "execute_result"
    }
   ],
   "source": [
    "iv_perc_aumento['IV'].sum()"
   ]
  },
  {
   "cell_type": "markdown",
   "metadata": {},
   "source": [
    "Poder de separação muito fraco"
   ]
  },
  {
   "cell_type": "code",
   "execution_count": 66,
   "metadata": {},
   "outputs": [],
   "source": [
    "valor.append(iv_perc_aumento['IV'].sum())\n",
    "variavel.append('Perc_de_aumento')"
   ]
  },
  {
   "cell_type": "markdown",
   "metadata": {},
   "source": [
    "#### `Qte_ações_da_empresa`"
   ]
  },
  {
   "cell_type": "code",
   "execution_count": 67,
   "metadata": {},
   "outputs": [
    {
     "name": "stderr",
     "output_type": "stream",
     "text": [
      "C:\\Users\\msant\\AppData\\Local\\Temp\\ipykernel_1272\\3055875841.py:5: FutureWarning: The default value of observed=False is deprecated and will change to observed=True in a future version of pandas. Specify observed=False to silence this warning and retain the current behavior\n",
      "  pivot_table = pd.pivot_table(df, columns=target, index=bin_variable, values=count, aggfunc=\"count\")\n"
     ]
    },
    {
     "data": {
      "text/html": [
       "<div>\n",
       "<style scoped>\n",
       "    .dataframe tbody tr th:only-of-type {\n",
       "        vertical-align: middle;\n",
       "    }\n",
       "\n",
       "    .dataframe tbody tr th {\n",
       "        vertical-align: top;\n",
       "    }\n",
       "\n",
       "    .dataframe thead th {\n",
       "        text-align: right;\n",
       "    }\n",
       "</style>\n",
       "<table border=\"1\" class=\"dataframe\">\n",
       "  <thead>\n",
       "    <tr style=\"text-align: right;\">\n",
       "      <th>Funcionário_deixou_a_empresa</th>\n",
       "      <th>Não</th>\n",
       "      <th>Sim</th>\n",
       "      <th>%Sim</th>\n",
       "      <th>%Nao</th>\n",
       "      <th>%FreqLinha</th>\n",
       "      <th>WoE</th>\n",
       "      <th>IV</th>\n",
       "    </tr>\n",
       "    <tr>\n",
       "      <th>Qte_ações_da_empresa</th>\n",
       "      <th></th>\n",
       "      <th></th>\n",
       "      <th></th>\n",
       "      <th></th>\n",
       "      <th></th>\n",
       "      <th></th>\n",
       "      <th></th>\n",
       "    </tr>\n",
       "  </thead>\n",
       "  <tbody>\n",
       "    <tr>\n",
       "      <th>(-0.003, 0.75]</th>\n",
       "      <td>477</td>\n",
       "      <td>154</td>\n",
       "      <td>64.98</td>\n",
       "      <td>38.69</td>\n",
       "      <td>24.41</td>\n",
       "      <td>1.679504</td>\n",
       "      <td>0.136313</td>\n",
       "    </tr>\n",
       "    <tr>\n",
       "      <th>(0.75, 1.5]</th>\n",
       "      <td>540</td>\n",
       "      <td>56</td>\n",
       "      <td>23.63</td>\n",
       "      <td>43.80</td>\n",
       "      <td>9.40</td>\n",
       "      <td>0.539498</td>\n",
       "      <td>0.124472</td>\n",
       "    </tr>\n",
       "    <tr>\n",
       "      <th>(1.5, 2.25]</th>\n",
       "      <td>146</td>\n",
       "      <td>12</td>\n",
       "      <td>5.06</td>\n",
       "      <td>11.84</td>\n",
       "      <td>7.59</td>\n",
       "      <td>0.427365</td>\n",
       "      <td>0.057638</td>\n",
       "    </tr>\n",
       "    <tr>\n",
       "      <th>(2.25, 3.0]</th>\n",
       "      <td>70</td>\n",
       "      <td>15</td>\n",
       "      <td>6.33</td>\n",
       "      <td>5.68</td>\n",
       "      <td>17.65</td>\n",
       "      <td>1.114437</td>\n",
       "      <td>0.000704</td>\n",
       "    </tr>\n",
       "  </tbody>\n",
       "</table>\n",
       "</div>"
      ],
      "text/plain": [
       "Funcionário_deixou_a_empresa  Não  Sim   %Sim   %Nao  %FreqLinha       WoE  \\\n",
       "Qte_ações_da_empresa                                                         \n",
       "(-0.003, 0.75]                477  154  64.98  38.69       24.41  1.679504   \n",
       "(0.75, 1.5]                   540   56  23.63  43.80        9.40  0.539498   \n",
       "(1.5, 2.25]                   146   12   5.06  11.84        7.59  0.427365   \n",
       "(2.25, 3.0]                    70   15   6.33   5.68       17.65  1.114437   \n",
       "\n",
       "Funcionário_deixou_a_empresa        IV  \n",
       "Qte_ações_da_empresa                    \n",
       "(-0.003, 0.75]                0.136313  \n",
       "(0.75, 1.5]                   0.124472  \n",
       "(1.5, 2.25]                   0.057638  \n",
       "(2.25, 3.0]                   0.000704  "
      ]
     },
     "execution_count": 67,
     "metadata": {},
     "output_type": "execute_result"
    }
   ],
   "source": [
    "iv_acoes = iv_bin('Funcionário_deixou_a_empresa', 'Qte_ações_da_empresa', 4, 'ID')\n",
    "iv_acoes"
   ]
  },
  {
   "cell_type": "code",
   "execution_count": 68,
   "metadata": {},
   "outputs": [
    {
     "data": {
      "text/plain": [
       "0.31912787394873954"
      ]
     },
     "execution_count": 68,
     "metadata": {},
     "output_type": "execute_result"
    }
   ],
   "source": [
    "iv_acoes['IV'].sum()"
   ]
  },
  {
   "cell_type": "markdown",
   "metadata": {},
   "source": [
    "Poder de separação forte\n",
    "\n",
    "Funcionário que possuem lotes de ação tendem a ser mais engajados.\n",
    "\n",
    "Devemos saber as politicas da empresa em relação a distribuição de ações antes de tomar uma medida."
   ]
  },
  {
   "cell_type": "code",
   "execution_count": 69,
   "metadata": {},
   "outputs": [],
   "source": [
    "valor.append(iv_acoes['IV'].sum())\n",
    "variavel.append('Qte_ações_da_empresa')"
   ]
  },
  {
   "cell_type": "markdown",
   "metadata": {},
   "source": [
    "#### `Tempo_de_carreira`"
   ]
  },
  {
   "cell_type": "code",
   "execution_count": 70,
   "metadata": {},
   "outputs": [
    {
     "name": "stderr",
     "output_type": "stream",
     "text": [
      "C:\\Users\\msant\\AppData\\Local\\Temp\\ipykernel_1272\\3055875841.py:5: FutureWarning: The default value of observed=False is deprecated and will change to observed=True in a future version of pandas. Specify observed=False to silence this warning and retain the current behavior\n",
      "  pivot_table = pd.pivot_table(df, columns=target, index=bin_variable, values=count, aggfunc=\"count\")\n"
     ]
    },
    {
     "data": {
      "text/html": [
       "<div>\n",
       "<style scoped>\n",
       "    .dataframe tbody tr th:only-of-type {\n",
       "        vertical-align: middle;\n",
       "    }\n",
       "\n",
       "    .dataframe tbody tr th {\n",
       "        vertical-align: top;\n",
       "    }\n",
       "\n",
       "    .dataframe thead th {\n",
       "        text-align: right;\n",
       "    }\n",
       "</style>\n",
       "<table border=\"1\" class=\"dataframe\">\n",
       "  <thead>\n",
       "    <tr style=\"text-align: right;\">\n",
       "      <th>Funcionário_deixou_a_empresa</th>\n",
       "      <th>Não</th>\n",
       "      <th>Sim</th>\n",
       "      <th>%Sim</th>\n",
       "      <th>%Nao</th>\n",
       "      <th>%FreqLinha</th>\n",
       "      <th>WoE</th>\n",
       "      <th>IV</th>\n",
       "    </tr>\n",
       "    <tr>\n",
       "      <th>Tempo_de_carreira</th>\n",
       "      <th></th>\n",
       "      <th></th>\n",
       "      <th></th>\n",
       "      <th></th>\n",
       "      <th></th>\n",
       "      <th></th>\n",
       "      <th></th>\n",
       "    </tr>\n",
       "  </thead>\n",
       "  <tbody>\n",
       "    <tr>\n",
       "      <th>(-0.04, 3.333]</th>\n",
       "      <td>102</td>\n",
       "      <td>63</td>\n",
       "      <td>26.58</td>\n",
       "      <td>8.27</td>\n",
       "      <td>38.18</td>\n",
       "      <td>3.214027</td>\n",
       "      <td>0.213774</td>\n",
       "    </tr>\n",
       "    <tr>\n",
       "      <th>(3.333, 6.667]</th>\n",
       "      <td>226</td>\n",
       "      <td>50</td>\n",
       "      <td>21.10</td>\n",
       "      <td>18.33</td>\n",
       "      <td>18.12</td>\n",
       "      <td>1.151118</td>\n",
       "      <td>0.003898</td>\n",
       "    </tr>\n",
       "    <tr>\n",
       "      <th>(6.667, 10.0]</th>\n",
       "      <td>413</td>\n",
       "      <td>69</td>\n",
       "      <td>29.11</td>\n",
       "      <td>33.50</td>\n",
       "      <td>14.32</td>\n",
       "      <td>0.868955</td>\n",
       "      <td>0.006166</td>\n",
       "    </tr>\n",
       "    <tr>\n",
       "      <th>(10.0, 13.333]</th>\n",
       "      <td>105</td>\n",
       "      <td>15</td>\n",
       "      <td>6.33</td>\n",
       "      <td>8.52</td>\n",
       "      <td>12.50</td>\n",
       "      <td>0.742958</td>\n",
       "      <td>0.006507</td>\n",
       "    </tr>\n",
       "    <tr>\n",
       "      <th>(13.333, 16.667]</th>\n",
       "      <td>96</td>\n",
       "      <td>12</td>\n",
       "      <td>5.06</td>\n",
       "      <td>7.79</td>\n",
       "      <td>11.11</td>\n",
       "      <td>0.649551</td>\n",
       "      <td>0.011779</td>\n",
       "    </tr>\n",
       "    <tr>\n",
       "      <th>(16.667, 20.0]</th>\n",
       "      <td>100</td>\n",
       "      <td>12</td>\n",
       "      <td>5.06</td>\n",
       "      <td>8.11</td>\n",
       "      <td>10.71</td>\n",
       "      <td>0.623921</td>\n",
       "      <td>0.014388</td>\n",
       "    </tr>\n",
       "    <tr>\n",
       "      <th>(20.0, 23.333]</th>\n",
       "      <td>72</td>\n",
       "      <td>5</td>\n",
       "      <td>2.11</td>\n",
       "      <td>5.84</td>\n",
       "      <td>6.49</td>\n",
       "      <td>0.361301</td>\n",
       "      <td>0.037973</td>\n",
       "    </tr>\n",
       "    <tr>\n",
       "      <th>(23.333, 26.667]</th>\n",
       "      <td>41</td>\n",
       "      <td>5</td>\n",
       "      <td>2.11</td>\n",
       "      <td>3.33</td>\n",
       "      <td>10.87</td>\n",
       "      <td>0.633634</td>\n",
       "      <td>0.005567</td>\n",
       "    </tr>\n",
       "    <tr>\n",
       "      <th>(26.667, 30.0]</th>\n",
       "      <td>37</td>\n",
       "      <td>1</td>\n",
       "      <td>0.42</td>\n",
       "      <td>3.00</td>\n",
       "      <td>2.63</td>\n",
       "      <td>0.140000</td>\n",
       "      <td>0.050726</td>\n",
       "    </tr>\n",
       "    <tr>\n",
       "      <th>(30.0, 33.333]</th>\n",
       "      <td>23</td>\n",
       "      <td>2</td>\n",
       "      <td>0.84</td>\n",
       "      <td>1.87</td>\n",
       "      <td>8.00</td>\n",
       "      <td>0.449198</td>\n",
       "      <td>0.008243</td>\n",
       "    </tr>\n",
       "    <tr>\n",
       "      <th>(33.333, 36.667]</th>\n",
       "      <td>13</td>\n",
       "      <td>1</td>\n",
       "      <td>0.42</td>\n",
       "      <td>1.05</td>\n",
       "      <td>7.14</td>\n",
       "      <td>0.400000</td>\n",
       "      <td>0.005773</td>\n",
       "    </tr>\n",
       "    <tr>\n",
       "      <th>(36.667, 40.0]</th>\n",
       "      <td>5</td>\n",
       "      <td>2</td>\n",
       "      <td>0.84</td>\n",
       "      <td>0.41</td>\n",
       "      <td>28.57</td>\n",
       "      <td>2.048780</td>\n",
       "      <td>0.003084</td>\n",
       "    </tr>\n",
       "  </tbody>\n",
       "</table>\n",
       "</div>"
      ],
      "text/plain": [
       "Funcionário_deixou_a_empresa  Não  Sim   %Sim   %Nao  %FreqLinha       WoE  \\\n",
       "Tempo_de_carreira                                                            \n",
       "(-0.04, 3.333]                102   63  26.58   8.27       38.18  3.214027   \n",
       "(3.333, 6.667]                226   50  21.10  18.33       18.12  1.151118   \n",
       "(6.667, 10.0]                 413   69  29.11  33.50       14.32  0.868955   \n",
       "(10.0, 13.333]                105   15   6.33   8.52       12.50  0.742958   \n",
       "(13.333, 16.667]               96   12   5.06   7.79       11.11  0.649551   \n",
       "(16.667, 20.0]                100   12   5.06   8.11       10.71  0.623921   \n",
       "(20.0, 23.333]                 72    5   2.11   5.84        6.49  0.361301   \n",
       "(23.333, 26.667]               41    5   2.11   3.33       10.87  0.633634   \n",
       "(26.667, 30.0]                 37    1   0.42   3.00        2.63  0.140000   \n",
       "(30.0, 33.333]                 23    2   0.84   1.87        8.00  0.449198   \n",
       "(33.333, 36.667]               13    1   0.42   1.05        7.14  0.400000   \n",
       "(36.667, 40.0]                  5    2   0.84   0.41       28.57  2.048780   \n",
       "\n",
       "Funcionário_deixou_a_empresa        IV  \n",
       "Tempo_de_carreira                       \n",
       "(-0.04, 3.333]                0.213774  \n",
       "(3.333, 6.667]                0.003898  \n",
       "(6.667, 10.0]                 0.006166  \n",
       "(10.0, 13.333]                0.006507  \n",
       "(13.333, 16.667]              0.011779  \n",
       "(16.667, 20.0]                0.014388  \n",
       "(20.0, 23.333]                0.037973  \n",
       "(23.333, 26.667]              0.005567  \n",
       "(26.667, 30.0]                0.050726  \n",
       "(30.0, 33.333]                0.008243  \n",
       "(33.333, 36.667]              0.005773  \n",
       "(36.667, 40.0]                0.003084  "
      ]
     },
     "execution_count": 70,
     "metadata": {},
     "output_type": "execute_result"
    }
   ],
   "source": [
    "iv_tempo_carreira = iv_bin('Funcionário_deixou_a_empresa', 'Tempo_de_carreira', 12, 'ID')\n",
    "iv_tempo_carreira"
   ]
  },
  {
   "cell_type": "code",
   "execution_count": 71,
   "metadata": {},
   "outputs": [
    {
     "data": {
      "text/plain": [
       "0.36787750007898135"
      ]
     },
     "execution_count": 71,
     "metadata": {},
     "output_type": "execute_result"
    }
   ],
   "source": [
    "iv_tempo_carreira['IV'].sum()"
   ]
  },
  {
   "cell_type": "markdown",
   "metadata": {},
   "source": [
    "Poder de separação forte\n",
    "\n",
    "Funcionarios com pouco tempo de carreira possuem uma alta taxa de turnover.\n",
    "\n",
    "Isso corrobora com a análise de idade, e valida o fato de que deve-se dar uma atenção maior aos jovens com planos de carreira."
   ]
  },
  {
   "cell_type": "code",
   "execution_count": 78,
   "metadata": {},
   "outputs": [
    {
     "data": {
      "image/png": "[encoded data removed]",
      "text/plain": [
       "<Figure size 640x480 with 1 Axes>"
      ]
     },
     "metadata": {},
     "output_type": "display_data"
    }
   ],
   "source": [
    "sns.scatterplot(data=df, x='Idade', y='Tempo_de_carreira');"
   ]
  },
  {
   "cell_type": "code",
   "execution_count": null,
   "metadata": {},
   "outputs": [],
   "source": [
    "valor.append(iv_tempo_carreira['IV'].sum())\n",
    "variavel.append('Tempo_de_carreira')"
   ]
  },
  {
   "cell_type": "markdown",
   "metadata": {},
   "source": [
    "#### `Horas_de_treinamento`"
   ]
  },
  {
   "cell_type": "code",
   "execution_count": null,
   "metadata": {},
   "outputs": [
    {
     "name": "stderr",
     "output_type": "stream",
     "text": [
      "C:\\Users\\msant\\AppData\\Local\\Temp\\ipykernel_20264\\3055875841.py:5: FutureWarning: The default value of observed=False is deprecated and will change to observed=True in a future version of pandas. Specify observed=False to silence this warning and retain the current behavior\n",
      "  pivot_table = pd.pivot_table(df, columns=target, index=bin_variable, values=count, aggfunc=\"count\")\n"
     ]
    },
    {
     "data": {
      "text/html": [
       "<div>\n",
       "<style scoped>\n",
       "    .dataframe tbody tr th:only-of-type {\n",
       "        vertical-align: middle;\n",
       "    }\n",
       "\n",
       "    .dataframe tbody tr th {\n",
       "        vertical-align: top;\n",
       "    }\n",
       "\n",
       "    .dataframe thead th {\n",
       "        text-align: right;\n",
       "    }\n",
       "</style>\n",
       "<table border=\"1\" class=\"dataframe\">\n",
       "  <thead>\n",
       "    <tr style=\"text-align: right;\">\n",
       "      <th>Funcionário_deixou_a_empresa</th>\n",
       "      <th>Não</th>\n",
       "      <th>Sim</th>\n",
       "      <th>%Sim</th>\n",
       "      <th>%Nao</th>\n",
       "      <th>%FreqLinha</th>\n",
       "      <th>WoE</th>\n",
       "      <th>IV</th>\n",
       "    </tr>\n",
       "    <tr>\n",
       "      <th>Horas_de_treinamento</th>\n",
       "      <th></th>\n",
       "      <th></th>\n",
       "      <th></th>\n",
       "      <th></th>\n",
       "      <th></th>\n",
       "      <th></th>\n",
       "      <th></th>\n",
       "    </tr>\n",
       "  </thead>\n",
       "  <tbody>\n",
       "    <tr>\n",
       "      <th>(-0.006, 1.0]</th>\n",
       "      <td>101</td>\n",
       "      <td>24</td>\n",
       "      <td>10.13</td>\n",
       "      <td>8.19</td>\n",
       "      <td>19.20</td>\n",
       "      <td>1.236874</td>\n",
       "      <td>0.004124</td>\n",
       "    </tr>\n",
       "    <tr>\n",
       "      <th>(1.0, 2.0]</th>\n",
       "      <td>449</td>\n",
       "      <td>98</td>\n",
       "      <td>41.35</td>\n",
       "      <td>36.42</td>\n",
       "      <td>17.92</td>\n",
       "      <td>1.135365</td>\n",
       "      <td>0.006259</td>\n",
       "    </tr>\n",
       "    <tr>\n",
       "      <th>(2.0, 3.0]</th>\n",
       "      <td>422</td>\n",
       "      <td>69</td>\n",
       "      <td>29.11</td>\n",
       "      <td>34.23</td>\n",
       "      <td>14.05</td>\n",
       "      <td>0.850424</td>\n",
       "      <td>0.008295</td>\n",
       "    </tr>\n",
       "    <tr>\n",
       "      <th>(3.0, 4.0]</th>\n",
       "      <td>97</td>\n",
       "      <td>26</td>\n",
       "      <td>10.97</td>\n",
       "      <td>7.87</td>\n",
       "      <td>21.14</td>\n",
       "      <td>1.393901</td>\n",
       "      <td>0.010295</td>\n",
       "    </tr>\n",
       "    <tr>\n",
       "      <th>(4.0, 5.0]</th>\n",
       "      <td>105</td>\n",
       "      <td>14</td>\n",
       "      <td>5.91</td>\n",
       "      <td>8.52</td>\n",
       "      <td>11.76</td>\n",
       "      <td>0.693662</td>\n",
       "      <td>0.009547</td>\n",
       "    </tr>\n",
       "    <tr>\n",
       "      <th>(5.0, 6.0]</th>\n",
       "      <td>59</td>\n",
       "      <td>6</td>\n",
       "      <td>2.53</td>\n",
       "      <td>4.79</td>\n",
       "      <td>9.23</td>\n",
       "      <td>0.528184</td>\n",
       "      <td>0.014426</td>\n",
       "    </tr>\n",
       "  </tbody>\n",
       "</table>\n",
       "</div>"
      ],
      "text/plain": [
       "Funcionário_deixou_a_empresa  Não  Sim   %Sim   %Nao  %FreqLinha       WoE  \\\n",
       "Horas_de_treinamento                                                         \n",
       "(-0.006, 1.0]                 101   24  10.13   8.19       19.20  1.236874   \n",
       "(1.0, 2.0]                    449   98  41.35  36.42       17.92  1.135365   \n",
       "(2.0, 3.0]                    422   69  29.11  34.23       14.05  0.850424   \n",
       "(3.0, 4.0]                     97   26  10.97   7.87       21.14  1.393901   \n",
       "(4.0, 5.0]                    105   14   5.91   8.52       11.76  0.693662   \n",
       "(5.0, 6.0]                     59    6   2.53   4.79        9.23  0.528184   \n",
       "\n",
       "Funcionário_deixou_a_empresa        IV  \n",
       "Horas_de_treinamento                    \n",
       "(-0.006, 1.0]                 0.004124  \n",
       "(1.0, 2.0]                    0.006259  \n",
       "(2.0, 3.0]                    0.008295  \n",
       "(3.0, 4.0]                    0.010295  \n",
       "(4.0, 5.0]                    0.009547  \n",
       "(5.0, 6.0]                    0.014426  "
      ]
     },
     "execution_count": 287,
     "metadata": {},
     "output_type": "execute_result"
    }
   ],
   "source": [
    "iv_treinamento = iv_bin('Funcionário_deixou_a_empresa', 'Horas_de_treinamento', 6, 'ID')\n",
    "iv_treinamento"
   ]
  },
  {
   "cell_type": "code",
   "execution_count": null,
   "metadata": {},
   "outputs": [
    {
     "data": {
      "text/plain": [
       "0.052946238763920586"
      ]
     },
     "execution_count": 288,
     "metadata": {},
     "output_type": "execute_result"
    }
   ],
   "source": [
    "iv_treinamento['IV'].sum()"
   ]
  },
  {
   "cell_type": "markdown",
   "metadata": {},
   "source": [
    "Poder de separação fraco"
   ]
  },
  {
   "cell_type": "code",
   "execution_count": null,
   "metadata": {},
   "outputs": [],
   "source": [
    "valor.append(iv_treinamento['IV'].sum())\n",
    "variavel.append('Horas_de_treinamento')"
   ]
  },
  {
   "cell_type": "markdown",
   "metadata": {},
   "source": [
    "#### `Tempo_de_empresa`"
   ]
  },
  {
   "cell_type": "code",
   "execution_count": null,
   "metadata": {},
   "outputs": [
    {
     "name": "stderr",
     "output_type": "stream",
     "text": [
      "C:\\Users\\msant\\AppData\\Local\\Temp\\ipykernel_20264\\3055875841.py:5: FutureWarning: The default value of observed=False is deprecated and will change to observed=True in a future version of pandas. Specify observed=False to silence this warning and retain the current behavior\n",
      "  pivot_table = pd.pivot_table(df, columns=target, index=bin_variable, values=count, aggfunc=\"count\")\n"
     ]
    },
    {
     "data": {
      "text/html": [
       "<div>\n",
       "<style scoped>\n",
       "    .dataframe tbody tr th:only-of-type {\n",
       "        vertical-align: middle;\n",
       "    }\n",
       "\n",
       "    .dataframe tbody tr th {\n",
       "        vertical-align: top;\n",
       "    }\n",
       "\n",
       "    .dataframe thead th {\n",
       "        text-align: right;\n",
       "    }\n",
       "</style>\n",
       "<table border=\"1\" class=\"dataframe\">\n",
       "  <thead>\n",
       "    <tr style=\"text-align: right;\">\n",
       "      <th>Funcionário_deixou_a_empresa</th>\n",
       "      <th>Não</th>\n",
       "      <th>Sim</th>\n",
       "      <th>%Sim</th>\n",
       "      <th>%Nao</th>\n",
       "      <th>%FreqLinha</th>\n",
       "      <th>WoE</th>\n",
       "      <th>IV</th>\n",
       "    </tr>\n",
       "    <tr>\n",
       "      <th>Tempo_de_empresa</th>\n",
       "      <th></th>\n",
       "      <th></th>\n",
       "      <th></th>\n",
       "      <th></th>\n",
       "      <th></th>\n",
       "      <th></th>\n",
       "      <th></th>\n",
       "    </tr>\n",
       "  </thead>\n",
       "  <tbody>\n",
       "    <tr>\n",
       "      <th>(-0.04, 5.714]</th>\n",
       "      <td>614</td>\n",
       "      <td>162</td>\n",
       "      <td>68.35</td>\n",
       "      <td>49.80</td>\n",
       "      <td>20.88</td>\n",
       "      <td>1.372490</td>\n",
       "      <td>0.058734</td>\n",
       "    </tr>\n",
       "    <tr>\n",
       "      <th>(5.714, 11.429]</th>\n",
       "      <td>423</td>\n",
       "      <td>57</td>\n",
       "      <td>24.05</td>\n",
       "      <td>34.31</td>\n",
       "      <td>11.88</td>\n",
       "      <td>0.700962</td>\n",
       "      <td>0.036454</td>\n",
       "    </tr>\n",
       "    <tr>\n",
       "      <th>(11.429, 17.143]</th>\n",
       "      <td>90</td>\n",
       "      <td>7</td>\n",
       "      <td>2.95</td>\n",
       "      <td>7.30</td>\n",
       "      <td>7.22</td>\n",
       "      <td>0.404110</td>\n",
       "      <td>0.039414</td>\n",
       "    </tr>\n",
       "    <tr>\n",
       "      <th>(17.143, 22.857]</th>\n",
       "      <td>75</td>\n",
       "      <td>5</td>\n",
       "      <td>2.11</td>\n",
       "      <td>6.08</td>\n",
       "      <td>6.25</td>\n",
       "      <td>0.347039</td>\n",
       "      <td>0.042015</td>\n",
       "    </tr>\n",
       "    <tr>\n",
       "      <th>(22.857, 28.571]</th>\n",
       "      <td>16</td>\n",
       "      <td>2</td>\n",
       "      <td>0.84</td>\n",
       "      <td>1.30</td>\n",
       "      <td>11.11</td>\n",
       "      <td>0.646154</td>\n",
       "      <td>0.002009</td>\n",
       "    </tr>\n",
       "    <tr>\n",
       "      <th>(28.571, 34.286]</th>\n",
       "      <td>12</td>\n",
       "      <td>3</td>\n",
       "      <td>1.27</td>\n",
       "      <td>0.97</td>\n",
       "      <td>20.00</td>\n",
       "      <td>1.309278</td>\n",
       "      <td>0.000808</td>\n",
       "    </tr>\n",
       "    <tr>\n",
       "      <th>(34.286, 40.0]</th>\n",
       "      <td>3</td>\n",
       "      <td>1</td>\n",
       "      <td>0.42</td>\n",
       "      <td>0.24</td>\n",
       "      <td>25.00</td>\n",
       "      <td>1.750000</td>\n",
       "      <td>0.001007</td>\n",
       "    </tr>\n",
       "  </tbody>\n",
       "</table>\n",
       "</div>"
      ],
      "text/plain": [
       "Funcionário_deixou_a_empresa  Não  Sim   %Sim   %Nao  %FreqLinha       WoE  \\\n",
       "Tempo_de_empresa                                                             \n",
       "(-0.04, 5.714]                614  162  68.35  49.80       20.88  1.372490   \n",
       "(5.714, 11.429]               423   57  24.05  34.31       11.88  0.700962   \n",
       "(11.429, 17.143]               90    7   2.95   7.30        7.22  0.404110   \n",
       "(17.143, 22.857]               75    5   2.11   6.08        6.25  0.347039   \n",
       "(22.857, 28.571]               16    2   0.84   1.30       11.11  0.646154   \n",
       "(28.571, 34.286]               12    3   1.27   0.97       20.00  1.309278   \n",
       "(34.286, 40.0]                  3    1   0.42   0.24       25.00  1.750000   \n",
       "\n",
       "Funcionário_deixou_a_empresa        IV  \n",
       "Tempo_de_empresa                        \n",
       "(-0.04, 5.714]                0.058734  \n",
       "(5.714, 11.429]               0.036454  \n",
       "(11.429, 17.143]              0.039414  \n",
       "(17.143, 22.857]              0.042015  \n",
       "(22.857, 28.571]              0.002009  \n",
       "(28.571, 34.286]              0.000808  \n",
       "(34.286, 40.0]                0.001007  "
      ]
     },
     "execution_count": 290,
     "metadata": {},
     "output_type": "execute_result"
    }
   ],
   "source": [
    "iv_tempo_empresa = iv_bin('Funcionário_deixou_a_empresa', 'Tempo_de_empresa', 7, 'ID')\n",
    "iv_tempo_empresa"
   ]
  },
  {
   "cell_type": "code",
   "execution_count": null,
   "metadata": {},
   "outputs": [
    {
     "data": {
      "text/plain": [
       "0.18044202338807344"
      ]
     },
     "execution_count": 291,
     "metadata": {},
     "output_type": "execute_result"
    }
   ],
   "source": [
    "iv_tempo_empresa['IV'].sum()"
   ]
  },
  {
   "cell_type": "markdown",
   "metadata": {},
   "source": [
    "Poder de separação fraco"
   ]
  },
  {
   "cell_type": "code",
   "execution_count": null,
   "metadata": {},
   "outputs": [],
   "source": [
    "valor.append(iv_tempo_empresa['IV'].sum())\n",
    "variavel.append('Tempo_de_empresa')"
   ]
  },
  {
   "cell_type": "markdown",
   "metadata": {},
   "source": [
    "#### `Anos_no_mesmo_cargo`"
   ]
  },
  {
   "cell_type": "code",
   "execution_count": null,
   "metadata": {},
   "outputs": [
    {
     "name": "stderr",
     "output_type": "stream",
     "text": [
      "C:\\Users\\msant\\AppData\\Local\\Temp\\ipykernel_20264\\3055875841.py:5: FutureWarning: The default value of observed=False is deprecated and will change to observed=True in a future version of pandas. Specify observed=False to silence this warning and retain the current behavior\n",
      "  pivot_table = pd.pivot_table(df, columns=target, index=bin_variable, values=count, aggfunc=\"count\")\n"
     ]
    },
    {
     "data": {
      "text/html": [
       "<div>\n",
       "<style scoped>\n",
       "    .dataframe tbody tr th:only-of-type {\n",
       "        vertical-align: middle;\n",
       "    }\n",
       "\n",
       "    .dataframe tbody tr th {\n",
       "        vertical-align: top;\n",
       "    }\n",
       "\n",
       "    .dataframe thead th {\n",
       "        text-align: right;\n",
       "    }\n",
       "</style>\n",
       "<table border=\"1\" class=\"dataframe\">\n",
       "  <thead>\n",
       "    <tr style=\"text-align: right;\">\n",
       "      <th>Funcionário_deixou_a_empresa</th>\n",
       "      <th>Não</th>\n",
       "      <th>Sim</th>\n",
       "      <th>%Sim</th>\n",
       "      <th>%Nao</th>\n",
       "      <th>%FreqLinha</th>\n",
       "      <th>WoE</th>\n",
       "      <th>IV</th>\n",
       "    </tr>\n",
       "    <tr>\n",
       "      <th>Anos_no_mesmo_cargo</th>\n",
       "      <th></th>\n",
       "      <th></th>\n",
       "      <th></th>\n",
       "      <th></th>\n",
       "      <th></th>\n",
       "      <th></th>\n",
       "      <th></th>\n",
       "    </tr>\n",
       "  </thead>\n",
       "  <tbody>\n",
       "    <tr>\n",
       "      <th>(-0.018, 3.6]</th>\n",
       "      <td>640</td>\n",
       "      <td>168</td>\n",
       "      <td>70.89</td>\n",
       "      <td>51.91</td>\n",
       "      <td>20.79</td>\n",
       "      <td>1.365633</td>\n",
       "      <td>0.059145</td>\n",
       "    </tr>\n",
       "    <tr>\n",
       "      <th>(3.6, 7.2]</th>\n",
       "      <td>350</td>\n",
       "      <td>49</td>\n",
       "      <td>20.68</td>\n",
       "      <td>28.39</td>\n",
       "      <td>12.28</td>\n",
       "      <td>0.728426</td>\n",
       "      <td>0.024431</td>\n",
       "    </tr>\n",
       "    <tr>\n",
       "      <th>(7.2, 10.8]</th>\n",
       "      <td>170</td>\n",
       "      <td>15</td>\n",
       "      <td>6.33</td>\n",
       "      <td>13.79</td>\n",
       "      <td>8.11</td>\n",
       "      <td>0.459028</td>\n",
       "      <td>0.058087</td>\n",
       "    </tr>\n",
       "    <tr>\n",
       "      <th>(10.8, 14.4]</th>\n",
       "      <td>54</td>\n",
       "      <td>3</td>\n",
       "      <td>1.27</td>\n",
       "      <td>4.38</td>\n",
       "      <td>5.26</td>\n",
       "      <td>0.289954</td>\n",
       "      <td>0.038503</td>\n",
       "    </tr>\n",
       "    <tr>\n",
       "      <th>(14.4, 18.0]</th>\n",
       "      <td>19</td>\n",
       "      <td>2</td>\n",
       "      <td>0.84</td>\n",
       "      <td>1.54</td>\n",
       "      <td>9.52</td>\n",
       "      <td>0.545455</td>\n",
       "      <td>0.004243</td>\n",
       "    </tr>\n",
       "  </tbody>\n",
       "</table>\n",
       "</div>"
      ],
      "text/plain": [
       "Funcionário_deixou_a_empresa  Não  Sim   %Sim   %Nao  %FreqLinha       WoE  \\\n",
       "Anos_no_mesmo_cargo                                                          \n",
       "(-0.018, 3.6]                 640  168  70.89  51.91       20.79  1.365633   \n",
       "(3.6, 7.2]                    350   49  20.68  28.39       12.28  0.728426   \n",
       "(7.2, 10.8]                   170   15   6.33  13.79        8.11  0.459028   \n",
       "(10.8, 14.4]                   54    3   1.27   4.38        5.26  0.289954   \n",
       "(14.4, 18.0]                   19    2   0.84   1.54        9.52  0.545455   \n",
       "\n",
       "Funcionário_deixou_a_empresa        IV  \n",
       "Anos_no_mesmo_cargo                     \n",
       "(-0.018, 3.6]                 0.059145  \n",
       "(3.6, 7.2]                    0.024431  \n",
       "(7.2, 10.8]                   0.058087  \n",
       "(10.8, 14.4]                  0.038503  \n",
       "(14.4, 18.0]                  0.004243  "
      ]
     },
     "execution_count": 293,
     "metadata": {},
     "output_type": "execute_result"
    }
   ],
   "source": [
    "iv_anos_cargo = iv_bin('Funcionário_deixou_a_empresa', 'Anos_no_mesmo_cargo', 5, 'ID')\n",
    "iv_anos_cargo"
   ]
  },
  {
   "cell_type": "code",
   "execution_count": null,
   "metadata": {},
   "outputs": [
    {
     "data": {
      "text/plain": [
       "0.18440829615665916"
      ]
     },
     "execution_count": 294,
     "metadata": {},
     "output_type": "execute_result"
    }
   ],
   "source": [
    "iv_anos_cargo['IV'].sum()"
   ]
  },
  {
   "cell_type": "markdown",
   "metadata": {},
   "source": [
    "Poder de separação fraco"
   ]
  },
  {
   "cell_type": "code",
   "execution_count": null,
   "metadata": {},
   "outputs": [],
   "source": [
    "valor.append(iv_anos_cargo['IV'].sum())\n",
    "variavel.append('Anos_no_mesmo_cargo')"
   ]
  },
  {
   "cell_type": "markdown",
   "metadata": {},
   "source": [
    "#### `Anos_desde_a_ultima_promocao\t`"
   ]
  },
  {
   "cell_type": "code",
   "execution_count": null,
   "metadata": {},
   "outputs": [
    {
     "name": "stderr",
     "output_type": "stream",
     "text": [
      "C:\\Users\\msant\\AppData\\Local\\Temp\\ipykernel_20264\\3055875841.py:5: FutureWarning: The default value of observed=False is deprecated and will change to observed=True in a future version of pandas. Specify observed=False to silence this warning and retain the current behavior\n",
      "  pivot_table = pd.pivot_table(df, columns=target, index=bin_variable, values=count, aggfunc=\"count\")\n"
     ]
    },
    {
     "data": {
      "text/html": [
       "<div>\n",
       "<style scoped>\n",
       "    .dataframe tbody tr th:only-of-type {\n",
       "        vertical-align: middle;\n",
       "    }\n",
       "\n",
       "    .dataframe tbody tr th {\n",
       "        vertical-align: top;\n",
       "    }\n",
       "\n",
       "    .dataframe thead th {\n",
       "        text-align: right;\n",
       "    }\n",
       "</style>\n",
       "<table border=\"1\" class=\"dataframe\">\n",
       "  <thead>\n",
       "    <tr style=\"text-align: right;\">\n",
       "      <th>Funcionário_deixou_a_empresa</th>\n",
       "      <th>Não</th>\n",
       "      <th>Sim</th>\n",
       "      <th>%Sim</th>\n",
       "      <th>%Nao</th>\n",
       "      <th>%FreqLinha</th>\n",
       "      <th>WoE</th>\n",
       "      <th>IV</th>\n",
       "    </tr>\n",
       "    <tr>\n",
       "      <th>Anos_desde_a_ultima_promocao</th>\n",
       "      <th></th>\n",
       "      <th></th>\n",
       "      <th></th>\n",
       "      <th></th>\n",
       "      <th></th>\n",
       "      <th></th>\n",
       "      <th></th>\n",
       "    </tr>\n",
       "  </thead>\n",
       "  <tbody>\n",
       "    <tr>\n",
       "      <th>(-0.015, 2.143]</th>\n",
       "      <td>911</td>\n",
       "      <td>186</td>\n",
       "      <td>78.48</td>\n",
       "      <td>73.88</td>\n",
       "      <td>16.96</td>\n",
       "      <td>1.062263</td>\n",
       "      <td>0.002778</td>\n",
       "    </tr>\n",
       "    <tr>\n",
       "      <th>(2.143, 4.286]</th>\n",
       "      <td>99</td>\n",
       "      <td>14</td>\n",
       "      <td>5.91</td>\n",
       "      <td>8.03</td>\n",
       "      <td>12.39</td>\n",
       "      <td>0.735990</td>\n",
       "      <td>0.006499</td>\n",
       "    </tr>\n",
       "    <tr>\n",
       "      <th>(4.286, 6.429]</th>\n",
       "      <td>69</td>\n",
       "      <td>8</td>\n",
       "      <td>3.38</td>\n",
       "      <td>5.60</td>\n",
       "      <td>10.39</td>\n",
       "      <td>0.603571</td>\n",
       "      <td>0.011209</td>\n",
       "    </tr>\n",
       "    <tr>\n",
       "      <th>(6.429, 8.571]</th>\n",
       "      <td>78</td>\n",
       "      <td>16</td>\n",
       "      <td>6.75</td>\n",
       "      <td>6.33</td>\n",
       "      <td>17.02</td>\n",
       "      <td>1.066351</td>\n",
       "      <td>0.000270</td>\n",
       "    </tr>\n",
       "    <tr>\n",
       "      <th>(8.571, 10.714]</th>\n",
       "      <td>18</td>\n",
       "      <td>5</td>\n",
       "      <td>2.11</td>\n",
       "      <td>1.46</td>\n",
       "      <td>21.74</td>\n",
       "      <td>1.445205</td>\n",
       "      <td>0.002394</td>\n",
       "    </tr>\n",
       "    <tr>\n",
       "      <th>(10.714, 12.857]</th>\n",
       "      <td>32</td>\n",
       "      <td>2</td>\n",
       "      <td>0.84</td>\n",
       "      <td>2.60</td>\n",
       "      <td>5.88</td>\n",
       "      <td>0.323077</td>\n",
       "      <td>0.019886</td>\n",
       "    </tr>\n",
       "    <tr>\n",
       "      <th>(12.857, 15.0]</th>\n",
       "      <td>26</td>\n",
       "      <td>6</td>\n",
       "      <td>2.53</td>\n",
       "      <td>2.11</td>\n",
       "      <td>18.75</td>\n",
       "      <td>1.199052</td>\n",
       "      <td>0.000762</td>\n",
       "    </tr>\n",
       "  </tbody>\n",
       "</table>\n",
       "</div>"
      ],
      "text/plain": [
       "Funcionário_deixou_a_empresa  Não  Sim   %Sim   %Nao  %FreqLinha       WoE  \\\n",
       "Anos_desde_a_ultima_promocao                                                 \n",
       "(-0.015, 2.143]               911  186  78.48  73.88       16.96  1.062263   \n",
       "(2.143, 4.286]                 99   14   5.91   8.03       12.39  0.735990   \n",
       "(4.286, 6.429]                 69    8   3.38   5.60       10.39  0.603571   \n",
       "(6.429, 8.571]                 78   16   6.75   6.33       17.02  1.066351   \n",
       "(8.571, 10.714]                18    5   2.11   1.46       21.74  1.445205   \n",
       "(10.714, 12.857]               32    2   0.84   2.60        5.88  0.323077   \n",
       "(12.857, 15.0]                 26    6   2.53   2.11       18.75  1.199052   \n",
       "\n",
       "Funcionário_deixou_a_empresa        IV  \n",
       "Anos_desde_a_ultima_promocao            \n",
       "(-0.015, 2.143]               0.002778  \n",
       "(2.143, 4.286]                0.006499  \n",
       "(4.286, 6.429]                0.011209  \n",
       "(6.429, 8.571]                0.000270  \n",
       "(8.571, 10.714]               0.002394  \n",
       "(10.714, 12.857]              0.019886  \n",
       "(12.857, 15.0]                0.000762  "
      ]
     },
     "execution_count": 296,
     "metadata": {},
     "output_type": "execute_result"
    }
   ],
   "source": [
    "iv_anos_promocao = iv_bin('Funcionário_deixou_a_empresa', 'Anos_desde_a_ultima_promocao', 7, 'ID')\n",
    "iv_anos_promocao"
   ]
  },
  {
   "cell_type": "code",
   "execution_count": null,
   "metadata": {},
   "outputs": [
    {
     "data": {
      "text/plain": [
       "0.04379717953576275"
      ]
     },
     "execution_count": 297,
     "metadata": {},
     "output_type": "execute_result"
    }
   ],
   "source": [
    "iv_anos_promocao['IV'].sum()"
   ]
  },
  {
   "cell_type": "markdown",
   "metadata": {},
   "source": [
    "Poder de separação fraco"
   ]
  },
  {
   "cell_type": "code",
   "execution_count": null,
   "metadata": {},
   "outputs": [],
   "source": [
    "valor.append(iv_anos_promocao['IV'].sum())\n",
    "variavel.append('Anos_desde_a_ultima_promocao')"
   ]
  },
  {
   "cell_type": "markdown",
   "metadata": {},
   "source": [
    "#### `Anos_com_o_mesmo_chefe`"
   ]
  },
  {
   "cell_type": "code",
   "execution_count": null,
   "metadata": {},
   "outputs": [
    {
     "name": "stderr",
     "output_type": "stream",
     "text": [
      "C:\\Users\\msant\\AppData\\Local\\Temp\\ipykernel_20264\\3055875841.py:5: FutureWarning: The default value of observed=False is deprecated and will change to observed=True in a future version of pandas. Specify observed=False to silence this warning and retain the current behavior\n",
      "  pivot_table = pd.pivot_table(df, columns=target, index=bin_variable, values=count, aggfunc=\"count\")\n"
     ]
    },
    {
     "data": {
      "text/html": [
       "<div>\n",
       "<style scoped>\n",
       "    .dataframe tbody tr th:only-of-type {\n",
       "        vertical-align: middle;\n",
       "    }\n",
       "\n",
       "    .dataframe tbody tr th {\n",
       "        vertical-align: top;\n",
       "    }\n",
       "\n",
       "    .dataframe thead th {\n",
       "        text-align: right;\n",
       "    }\n",
       "</style>\n",
       "<table border=\"1\" class=\"dataframe\">\n",
       "  <thead>\n",
       "    <tr style=\"text-align: right;\">\n",
       "      <th>Funcionário_deixou_a_empresa</th>\n",
       "      <th>Não</th>\n",
       "      <th>Sim</th>\n",
       "      <th>%Sim</th>\n",
       "      <th>%Nao</th>\n",
       "      <th>%FreqLinha</th>\n",
       "      <th>WoE</th>\n",
       "      <th>IV</th>\n",
       "    </tr>\n",
       "    <tr>\n",
       "      <th>Anos_com_o_mesmo_chefe</th>\n",
       "      <th></th>\n",
       "      <th></th>\n",
       "      <th></th>\n",
       "      <th></th>\n",
       "      <th></th>\n",
       "      <th></th>\n",
       "      <th></th>\n",
       "    </tr>\n",
       "  </thead>\n",
       "  <tbody>\n",
       "    <tr>\n",
       "      <th>(-0.017, 3.4]</th>\n",
       "      <td>660</td>\n",
       "      <td>165</td>\n",
       "      <td>69.62</td>\n",
       "      <td>53.53</td>\n",
       "      <td>20.00</td>\n",
       "      <td>1.300579</td>\n",
       "      <td>0.042286</td>\n",
       "    </tr>\n",
       "    <tr>\n",
       "      <th>(3.4, 6.8]</th>\n",
       "      <td>139</td>\n",
       "      <td>19</td>\n",
       "      <td>8.02</td>\n",
       "      <td>11.27</td>\n",
       "      <td>12.03</td>\n",
       "      <td>0.711624</td>\n",
       "      <td>0.011057</td>\n",
       "    </tr>\n",
       "    <tr>\n",
       "      <th>(6.8, 10.2]</th>\n",
       "      <td>364</td>\n",
       "      <td>50</td>\n",
       "      <td>21.10</td>\n",
       "      <td>29.52</td>\n",
       "      <td>12.08</td>\n",
       "      <td>0.714770</td>\n",
       "      <td>0.028274</td>\n",
       "    </tr>\n",
       "    <tr>\n",
       "      <th>(10.2, 13.6]</th>\n",
       "      <td>53</td>\n",
       "      <td>1</td>\n",
       "      <td>0.42</td>\n",
       "      <td>4.30</td>\n",
       "      <td>1.85</td>\n",
       "      <td>0.097674</td>\n",
       "      <td>0.090253</td>\n",
       "    </tr>\n",
       "    <tr>\n",
       "      <th>(13.6, 17.0]</th>\n",
       "      <td>17</td>\n",
       "      <td>2</td>\n",
       "      <td>0.84</td>\n",
       "      <td>1.38</td>\n",
       "      <td>10.53</td>\n",
       "      <td>0.608696</td>\n",
       "      <td>0.002681</td>\n",
       "    </tr>\n",
       "  </tbody>\n",
       "</table>\n",
       "</div>"
      ],
      "text/plain": [
       "Funcionário_deixou_a_empresa  Não  Sim   %Sim   %Nao  %FreqLinha       WoE  \\\n",
       "Anos_com_o_mesmo_chefe                                                       \n",
       "(-0.017, 3.4]                 660  165  69.62  53.53       20.00  1.300579   \n",
       "(3.4, 6.8]                    139   19   8.02  11.27       12.03  0.711624   \n",
       "(6.8, 10.2]                   364   50  21.10  29.52       12.08  0.714770   \n",
       "(10.2, 13.6]                   53    1   0.42   4.30        1.85  0.097674   \n",
       "(13.6, 17.0]                   17    2   0.84   1.38       10.53  0.608696   \n",
       "\n",
       "Funcionário_deixou_a_empresa        IV  \n",
       "Anos_com_o_mesmo_chefe                  \n",
       "(-0.017, 3.4]                 0.042286  \n",
       "(3.4, 6.8]                    0.011057  \n",
       "(6.8, 10.2]                   0.028274  \n",
       "(10.2, 13.6]                  0.090253  \n",
       "(13.6, 17.0]                  0.002681  "
      ]
     },
     "execution_count": 299,
     "metadata": {},
     "output_type": "execute_result"
    }
   ],
   "source": [
    "iv_anos_chefe = iv_bin('Funcionário_deixou_a_empresa', 'Anos_com_o_mesmo_chefe', 5, 'ID')\n",
    "iv_anos_chefe"
   ]
  },
  {
   "cell_type": "code",
   "execution_count": null,
   "metadata": {},
   "outputs": [
    {
     "data": {
      "text/plain": [
       "0.17455074236394233"
      ]
     },
     "execution_count": 300,
     "metadata": {},
     "output_type": "execute_result"
    }
   ],
   "source": [
    "iv_anos_chefe['IV'].sum()"
   ]
  },
  {
   "cell_type": "markdown",
   "metadata": {},
   "source": [
    "Poder de separação fraco"
   ]
  },
  {
   "cell_type": "code",
   "execution_count": null,
   "metadata": {},
   "outputs": [],
   "source": [
    "valor.append(iv_anos_chefe['IV'].sum())\n",
    "variavel.append('Anos_com_o_mesmo_chefe')"
   ]
  },
  {
   "cell_type": "markdown",
   "metadata": {},
   "source": [
    "### Resumo de IV"
   ]
  },
  {
   "cell_type": "code",
   "execution_count": null,
   "metadata": {},
   "outputs": [
    {
     "data": {
      "text/html": [
       "<div>\n",
       "<style scoped>\n",
       "    .dataframe tbody tr th:only-of-type {\n",
       "        vertical-align: middle;\n",
       "    }\n",
       "\n",
       "    .dataframe tbody tr th {\n",
       "        vertical-align: top;\n",
       "    }\n",
       "\n",
       "    .dataframe thead th {\n",
       "        text-align: right;\n",
       "    }\n",
       "</style>\n",
       "<table border=\"1\" class=\"dataframe\">\n",
       "  <thead>\n",
       "    <tr style=\"text-align: right;\">\n",
       "      <th></th>\n",
       "      <th>Variavel</th>\n",
       "      <th>IV</th>\n",
       "    </tr>\n",
       "  </thead>\n",
       "  <tbody>\n",
       "    <tr>\n",
       "      <th>5</th>\n",
       "      <td>Faz_hora_extras?</td>\n",
       "      <td>0.400235</td>\n",
       "    </tr>\n",
       "    <tr>\n",
       "      <th>13</th>\n",
       "      <td>Tempo_de_carreira</td>\n",
       "      <td>0.367878</td>\n",
       "    </tr>\n",
       "    <tr>\n",
       "      <th>9</th>\n",
       "      <td>Salário</td>\n",
       "      <td>0.326282</td>\n",
       "    </tr>\n",
       "    <tr>\n",
       "      <th>12</th>\n",
       "      <td>Qte_ações_da_empresa</td>\n",
       "      <td>0.319128</td>\n",
       "    </tr>\n",
       "    <tr>\n",
       "      <th>7</th>\n",
       "      <td>Idade</td>\n",
       "      <td>0.286226</td>\n",
       "    </tr>\n",
       "    <tr>\n",
       "      <th>4</th>\n",
       "      <td>Estado_Civil</td>\n",
       "      <td>0.218845</td>\n",
       "    </tr>\n",
       "    <tr>\n",
       "      <th>16</th>\n",
       "      <td>Anos_no_mesmo_cargo</td>\n",
       "      <td>0.184408</td>\n",
       "    </tr>\n",
       "    <tr>\n",
       "      <th>15</th>\n",
       "      <td>Tempo_de_empresa</td>\n",
       "      <td>0.180442</td>\n",
       "    </tr>\n",
       "    <tr>\n",
       "      <th>18</th>\n",
       "      <td>Anos_com_o_mesmo_chefe</td>\n",
       "      <td>0.174551</td>\n",
       "    </tr>\n",
       "    <tr>\n",
       "      <th>10</th>\n",
       "      <td>Qte_Empresas_Trabalhadas</td>\n",
       "      <td>0.131038</td>\n",
       "    </tr>\n",
       "    <tr>\n",
       "      <th>0</th>\n",
       "      <td>Frequência de Viagens</td>\n",
       "      <td>0.120867</td>\n",
       "    </tr>\n",
       "    <tr>\n",
       "      <th>2</th>\n",
       "      <td>E-Sat</td>\n",
       "      <td>0.099945</td>\n",
       "    </tr>\n",
       "    <tr>\n",
       "      <th>6</th>\n",
       "      <td>Equilibrio_de_Vida</td>\n",
       "      <td>0.066978</td>\n",
       "    </tr>\n",
       "    <tr>\n",
       "      <th>8</th>\n",
       "      <td>Distancia</td>\n",
       "      <td>0.054059</td>\n",
       "    </tr>\n",
       "    <tr>\n",
       "      <th>14</th>\n",
       "      <td>Horas_de_treinamento</td>\n",
       "      <td>0.052946</td>\n",
       "    </tr>\n",
       "    <tr>\n",
       "      <th>17</th>\n",
       "      <td>Anos_desde_a_ultima_promocao</td>\n",
       "      <td>0.043797</td>\n",
       "    </tr>\n",
       "    <tr>\n",
       "      <th>11</th>\n",
       "      <td>Perc_de_aumento</td>\n",
       "      <td>0.024268</td>\n",
       "    </tr>\n",
       "    <tr>\n",
       "      <th>1</th>\n",
       "      <td>Formação</td>\n",
       "      <td>0.016547</td>\n",
       "    </tr>\n",
       "    <tr>\n",
       "      <th>3</th>\n",
       "      <td>Gênero</td>\n",
       "      <td>0.006484</td>\n",
       "    </tr>\n",
       "  </tbody>\n",
       "</table>\n",
       "</div>"
      ],
      "text/plain": [
       "                        Variavel        IV\n",
       "5               Faz_hora_extras?  0.400235\n",
       "13             Tempo_de_carreira  0.367878\n",
       "9                        Salário  0.326282\n",
       "12          Qte_ações_da_empresa  0.319128\n",
       "7                          Idade  0.286226\n",
       "4                   Estado_Civil  0.218845\n",
       "16           Anos_no_mesmo_cargo  0.184408\n",
       "15              Tempo_de_empresa  0.180442\n",
       "18        Anos_com_o_mesmo_chefe  0.174551\n",
       "10      Qte_Empresas_Trabalhadas  0.131038\n",
       "0          Frequência de Viagens  0.120867\n",
       "2                          E-Sat  0.099945\n",
       "6             Equilibrio_de_Vida  0.066978\n",
       "8                      Distancia  0.054059\n",
       "14          Horas_de_treinamento  0.052946\n",
       "17  Anos_desde_a_ultima_promocao  0.043797\n",
       "11               Perc_de_aumento  0.024268\n",
       "1                       Formação  0.016547\n",
       "3                         Gênero  0.006484"
      ]
     },
     "execution_count": 304,
     "metadata": {},
     "output_type": "execute_result"
    }
   ],
   "source": [
    "pd.DataFrame({\n",
    "    'Variavel': variavel,\n",
    "    'IV': valor\n",
    "}).sort_values('IV', ascending=False)"
   ]
  }
 ],
 "metadata": {
  "kernelspec": {
   "display_name": "analise_de_dados",
   "language": "python",
   "name": "python3"
  },
  "language_info": {
   "codemirror_mode": {
    "name": "ipython",
    "version": 3
   },
   "file_extension": ".py",
   "mimetype": "text/x-python",
   "name": "python",
   "nbconvert_exporter": "python",
   "pygments_lexer": "ipython3",
   "version": "3.11.9"
  }
 },
 "nbformat": 4,
 "nbformat_minor": 2
}
